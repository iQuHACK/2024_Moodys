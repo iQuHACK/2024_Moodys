{
 "cells": [
  {
   "cell_type": "markdown",
   "id": "6605f21a-f3db-4919-a3fd-abf4649a9fbd",
   "metadata": {},
   "source": [
    "In order to find the constant z for our constraint equations, we need to derive several random datasets to get an idea of what the value-at-risk typically is for most portfolios. To do this, we need 2 things:\n",
    "To create a function that can generate random weights for the 32 assets, such that the sum of all the weights are equal to 1 and that all weights are positive:\n",
    "To take the results of this function and get the return by following the procedure in step 4:\n",
    "To then analyze several runs of this function and come up with a rough idea of what z should be."
   ]
  },
  {
   "cell_type": "code",
   "execution_count": null,
   "id": "b72fcc66-3685-4bc4-9f9c-6f39866ad7e4",
   "metadata": {},
   "outputs": [],
   "source": []
  },
  {
   "cell_type": "markdown",
   "id": "54b02392-a341-4b3b-850a-59510a7fdfdd",
   "metadata": {},
   "source": [
    "Function w random weights for 32 assets. "
   ]
  },
  {
   "cell_type": "code",
   "execution_count": 1,
   "id": "28cddbc4-eca5-4f77-9319-2ca5a320a9a6",
   "metadata": {
    "tags": []
   },
   "outputs": [
    {
     "data": {
      "text/plain": [
       "(array([0.02145949, 0.00456517, 0.00902196, 0.01646961, 0.02766029,\n",
       "        0.02103205, 0.0039472 , 0.01579856, 0.02687757, 0.06383004,\n",
       "        0.0754687 , 0.0664405 , 0.05007134, 0.01548443, 0.07385879,\n",
       "        0.01271008, 0.00995356, 0.06317959, 0.05776948, 0.01503632,\n",
       "        0.01587735, 0.0581431 , 0.0447636 , 0.00933955, 0.00324077,\n",
       "        0.03831576, 0.01376532, 0.05882531, 0.02058008, 0.01440161,\n",
       "        0.06448786, 0.00762494]),\n",
       " 0.9999999999999999)"
      ]
     },
     "execution_count": 1,
     "metadata": {},
     "output_type": "execute_result"
    }
   ],
   "source": [
    "import numpy as np\n",
    "\n",
    "def generate_random_weights(n_assets):\n",
    "    # Generate random numbers\n",
    "    random_numbers = np.random.random(n_assets)\n",
    "    # Normalize so that the sum is 1\n",
    "    weights = random_numbers / sum(random_numbers)\n",
    "    return weights\n",
    "\n",
    "# Test the function with 32 assets\n",
    "n_assets = 32\n",
    "random_weights = generate_random_weights(n_assets)\n",
    "random_weights, sum(random_weights)\n"
   ]
  },
  {
   "cell_type": "code",
   "execution_count": null,
   "id": "24f56d7d-d157-43b1-bc22-f142be689f8f",
   "metadata": {},
   "outputs": [],
   "source": []
  },
  {
   "cell_type": "markdown",
   "id": "98e184d1-2edf-41da-adf2-04376b1c7a93",
   "metadata": {},
   "source": []
  }
 ],
 "metadata": {
  "kernelspec": {
   "display_name": "Python 3 [Moody's]",
   "language": "python",
   "name": "python3_moodys_xbto4j"
  },
  "language_info": {
   "codemirror_mode": {
    "name": "ipython",
    "version": 3
   },
   "file_extension": ".py",
   "mimetype": "text/x-python",
   "name": "python",
   "nbconvert_exporter": "python",
   "pygments_lexer": "ipython3",
   "version": "3.9.18"
  }
 },
 "nbformat": 4,
 "nbformat_minor": 5
}
