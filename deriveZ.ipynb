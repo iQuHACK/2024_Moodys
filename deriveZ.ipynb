{
 "cells": [
  {
   "cell_type": "markdown",
   "id": "39502968-c6bb-4b52-8a6e-bc58fb5d8cc3",
   "metadata": {
    "tags": []
   },
   "source": [
    "Deriving z."
   ]
  },
  {
   "cell_type": "code",
   "execution_count": 39,
   "id": "8203c1f5-f9fc-472b-b06f-4ca4256bc4ae",
   "metadata": {
    "tags": []
   },
   "outputs": [
    {
     "name": "stderr",
     "output_type": "stream",
     "text": [
      "/tmp/ipykernel_512/3483040339.py:10: FutureWarning: The 'delim_whitespace' keyword in pd.read_csv is deprecated and will be removed in a future version. Use ``sep='\\s+'`` instead\n",
      "  df = pd.read_csv('returns_data.txt',delim_whitespace=True)\n"
     ]
    }
   ],
   "source": [
    "# modifying \"reading in financial data\" to 32 assets and right T value\n",
    "\n",
    "import numpy as np\n",
    "import pandas as pd\n",
    "\n",
    "# You may choose to select different parameters/values\n",
    "number_assets = 32\n",
    "T  = 392\n",
    "# Read returns\n",
    "df = pd.read_csv('returns_data.txt',delim_whitespace=True)\n",
    "\n",
    "Rraw = df.values.T\n",
    "\n",
    "# Select the first N,T assets and scenarios, you may choose a different strategy if you would like to do so.\n",
    "R = Rraw[:number_assets,:T]\n",
    "\n",
    "# Expected return of each asset\n",
    "expected_returns = np.mean(R, axis = 1)\n",
    "\n",
    "# Covariance matrix of asset returns\n",
    "covariance_matrix = np.cov(R)"
   ]
  },
  {
   "cell_type": "code",
   "execution_count": 40,
   "id": "1454b6b3-e891-4511-8c78-f8396fedce42",
   "metadata": {
    "tags": []
   },
   "outputs": [
    {
     "data": {
      "text/plain": [
       "(array([0.04530294, 0.03248244, 0.01591696, 0.05819326, 0.05515743,\n",
       "        0.0018886 , 0.04133333, 0.04105249, 0.00532421, 0.02746209,\n",
       "        0.06062974, 0.02659319, 0.04392856, 0.00207729, 0.05706425,\n",
       "        0.00622429, 0.00509702, 0.0474765 , 0.02714145, 0.06078049,\n",
       "        0.05412684, 0.00992554, 0.00093757, 0.00173598, 0.01410071,\n",
       "        0.02860928, 0.05080505, 0.00879419, 0.01877773, 0.03859788,\n",
       "        0.05160082, 0.06086186]),\n",
       " 1.0)"
      ]
     },
     "execution_count": 40,
     "metadata": {},
     "output_type": "execute_result"
    }
   ],
   "source": [
    "# import random weight function from random_weights.ipynb\n",
    "\n",
    "def generate_random_weights(number_of_assets):\n",
    "    weights = np.random.rand(number_of_assets) # Generate random numbers\n",
    "    weights /= np.sum(weights) # Normalize so that the sum is 1\n",
    "    return weights\n",
    "\n",
    "# Test the function with 32 assets\n",
    "n_assets = 32\n",
    "random_weights = generate_random_weights(n_assets)\n",
    "random_weights, sum(random_weights)\n"
   ]
  },
  {
   "cell_type": "code",
   "execution_count": 41,
   "id": "864d0c11-90ac-4fb3-8a06-ddbbf77add41",
   "metadata": {
    "tags": []
   },
   "outputs": [],
   "source": [
    "# Redefining the calculate_historical_VaR function\n",
    "def calculate_historical_VaR(weights, mu_R, confidence_level=0.95):\n",
    "    # Calculate portfolio returns for the given weights\n",
    "    portfolio_returns = np.dot(mu_R, np.transpose(np.array(weights)))\n",
    "    # Calculate the VaR at the specified confidence level\n",
    "    VaR = np.percentile(portfolio_returns, 100 * (1 - confidence_level))\n",
    "    return -VaR"
   ]
  },
  {
   "cell_type": "code",
   "execution_count": 42,
   "id": "d9e7df0d-6d54-41d0-8396-3419e202c41f",
   "metadata": {
    "tags": []
   },
   "outputs": [],
   "source": [
    "# Define a function to simulate the random generation of weights and calculation of VaR\n",
    "def simulate_VaR(num_simulations, num_assets, mu_R, confidence_level=0.95):\n",
    "    VaR_results = []\n",
    "    weights_list = []\n",
    "\n",
    "    for _ in range(num_simulations):\n",
    "        weights = generate_random_weights(num_assets)\n",
    "        VaR = calculate_historical_VaR(weights, mu_R, confidence_level)\n",
    "        VaR_results.append(VaR)\n",
    "        weights_list.append(weights)\n",
    "    \n",
    "    return VaR_results, weights_list"
   ]
  },
  {
   "cell_type": "code",
   "execution_count": 43,
   "id": "74fdb282-cfd1-4ac7-84f1-2a2c0d79139a",
   "metadata": {
    "tags": []
   },
   "outputs": [
    {
     "data": {
      "text/plain": [
       "([0.3201754590963047,\n",
       "  0.3040817367921548,\n",
       "  0.33570642951204405,\n",
       "  0.324621105208764,\n",
       "  0.35256804169434885],\n",
       " [array([0.03519249, 0.03290085, 0.01317292, 0.0536117 , 0.05335179,\n",
       "         0.0282839 , 0.04913777, 0.03639204, 0.00584395, 0.00473127,\n",
       "         0.01556526, 0.05040084, 0.00158258, 0.05193638, 0.01152281,\n",
       "         0.0274181 , 0.04280595, 0.02104865, 0.04392498, 0.01501355,\n",
       "         0.00104685, 0.03588135, 0.04501165, 0.01426848, 0.03105206,\n",
       "         0.04519589, 0.02398323, 0.03468755, 0.03416542, 0.04537202,\n",
       "         0.04764116, 0.04785654]),\n",
       "  array([0.04150249, 0.04927715, 0.04050631, 0.01704145, 0.02052018,\n",
       "         0.02598609, 0.03970675, 0.04701215, 0.02573006, 0.03526343,\n",
       "         0.0118426 , 0.0231728 , 0.03486327, 0.00175815, 0.02021195,\n",
       "         0.04307619, 0.01233438, 0.04928072, 0.0216664 , 0.01882121,\n",
       "         0.05057916, 0.02193385, 0.02624362, 0.01480431, 0.04967795,\n",
       "         0.01678528, 0.04148598, 0.03736406, 0.03326363, 0.03940288,\n",
       "         0.03435846, 0.05452709]),\n",
       "  array([0.01604598, 0.04529005, 0.01110671, 0.05985637, 0.04223921,\n",
       "         0.01186149, 0.04146411, 0.0174574 , 0.04475275, 0.0483324 ,\n",
       "         0.01738737, 0.03744703, 0.01976326, 0.06031816, 0.01705841,\n",
       "         0.01359626, 0.05254128, 0.03369028, 0.06079489, 0.00420929,\n",
       "         0.00269271, 0.02072749, 0.02317871, 0.06133557, 0.05006869,\n",
       "         0.03762329, 0.0628452 , 0.00436101, 0.03140263, 0.00272598,\n",
       "         0.00502145, 0.04280456]),\n",
       "  array([3.75143474e-02, 3.56680465e-02, 6.07580111e-02, 1.78872938e-02,\n",
       "         4.47482137e-02, 4.36094397e-02, 1.02396118e-02, 3.50628726e-02,\n",
       "         5.74763685e-03, 5.88533879e-02, 1.77641933e-02, 2.20699045e-02,\n",
       "         2.89828714e-02, 1.46328359e-02, 3.59180566e-02, 1.63276401e-02,\n",
       "         3.79104899e-02, 4.88496753e-02, 1.12161826e-03, 3.36144250e-02,\n",
       "         5.87756224e-02, 7.50474417e-03, 4.26659419e-02, 3.54226972e-02,\n",
       "         5.63592516e-02, 3.53101020e-02, 2.35589519e-02, 1.05982766e-02,\n",
       "         5.60329215e-02, 5.09637794e-03, 7.95060325e-05, 6.13150354e-02]),\n",
       "  array([0.03894738, 0.03544109, 0.00490616, 0.05484427, 0.01377497,\n",
       "         0.0112676 , 0.06334437, 0.05774461, 0.04677672, 0.02128168,\n",
       "         0.0643672 , 0.01938623, 0.02496569, 0.03924972, 0.05728707,\n",
       "         0.04692048, 0.01114821, 0.0088831 , 0.00936529, 0.06442574,\n",
       "         0.04214907, 0.0072486 , 0.0600262 , 0.02152251, 0.00609748,\n",
       "         0.02466099, 0.00043209, 0.00359317, 0.0311648 , 0.05129704,\n",
       "         0.05541976, 0.00206072])])"
      ]
     },
     "execution_count": 43,
     "metadata": {},
     "output_type": "execute_result"
    }
   ],
   "source": [
    "# Example usage\n",
    "num_simulations = 1000  # The number of times we want to run the simulation\n",
    "num_assets = 32  # Number of assets in the portfolio\n",
    "\n",
    "# We need the mu_R matrix to run the simulations which should be the historical returns matrix\n",
    "# For the sake of the example, let's create a dummy mu_R with random values\n",
    "# Normally, you would use actual historical returns data for your assets here\n",
    "mu_R = np.random.randn(1000, num_assets)  # 1000 scenarios, 32 assets\n",
    "\n",
    "# Run the simulation\n",
    "VaR_results, weights_list = simulate_VaR(num_simulations, num_assets, mu_R)\n",
    "\n",
    "# Display the first few results to ensure it's working\n",
    "VaR_results[:5], weights_list[:5]"
   ]
  },
  {
   "cell_type": "code",
   "execution_count": 45,
   "id": "434a4807-8824-48f7-bad9-1b6e8c0c57d9",
   "metadata": {
    "tags": []
   },
   "outputs": [
    {
     "name": "stdout",
     "output_type": "stream",
     "text": [
      "The mean VaR at a 95.0% confidence level is: -0.0010112892735360864\n",
      "The median VaR at a 95.0% confidence level is: -0.0010098220472010626\n"
     ]
    }
   ],
   "source": [
    "# let's now actually calculate z\n",
    "\n",
    "# Parameters\n",
    "number_of_assets = 32\n",
    "number_of_portfolios = 1000  # The number of random portfolios you want to generate\n",
    "confidence_level = 0.95\n",
    "\n",
    "# Assuming mu_R is the matrix of historical returns for the assets\n",
    "# Replace this with your actual historical returns data\n",
    "mu_R = expected_returns  # This should be the historical returns data for your assets\n",
    "\n",
    "# Generate the random weights for the portfolios and calculate the VaR for each\n",
    "VaRs = []\n",
    "for _ in range(number_of_portfolios):\n",
    "    weights = generate_random_weights(number_of_assets)\n",
    "    VaR = calculate_historical_VaR(weights, mu_R, confidence_level)\n",
    "    VaRs.append(VaR)\n",
    "\n",
    "# Calculate z\n",
    "mean_VaR = np.mean(VaRs)\n",
    "median_VaR = np.median(VaRs)\n",
    "z = mean_VaR  # or median_VaR, depending on your specific requirements\n",
    "\n",
    "print(f\"The mean VaR at a {confidence_level*100}% confidence level is: {mean_VaR}\")\n",
    "print(f\"The median VaR at a {confidence_level*100}% confidence level is: {median_VaR}\")\n"
   ]
  },
  {
   "cell_type": "code",
   "execution_count": null,
   "id": "96b1afa0-a9b9-4f7c-b891-6dbc0eedf3df",
   "metadata": {},
   "outputs": [],
   "source": []
  },
  {
   "cell_type": "code",
   "execution_count": null,
   "id": "297bcd02-43bb-4a1c-a4c6-1ef6a08bbfed",
   "metadata": {},
   "outputs": [],
   "source": []
  }
 ],
 "metadata": {
  "kernelspec": {
   "display_name": "Python 3 [Moody's]",
   "language": "python",
   "name": "python3_moodys_xbto4j"
  },
  "language_info": {
   "codemirror_mode": {
    "name": "ipython",
    "version": 3
   },
   "file_extension": ".py",
   "mimetype": "text/x-python",
   "name": "python",
   "nbconvert_exporter": "python",
   "pygments_lexer": "ipython3",
   "version": "3.9.18"
  }
 },
 "nbformat": 4,
 "nbformat_minor": 5
}
