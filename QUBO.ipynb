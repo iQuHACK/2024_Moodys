{
 "cells": [
  {
   "cell_type": "code",
   "execution_count": 25,
   "id": "a9ff17c4-a1aa-472b-b4e5-8085a9cfb9cb",
   "metadata": {},
   "outputs": [],
   "source": [
    "import pyqubo\n",
    "from pyqubo import Array, Binary, Constraint, Placeholder\n",
    "import numpy as np\n",
    "N, K = 3, 5\n",
    "T = 7\n",
    "z = 0.05\n",
    "eps = 0.1\n",
    "\n",
    "Sigma = np.random.rand(N, N) # UPDATE\n",
    "\n",
    "Mu =  np.random.rand(N)\n",
    "\n",
    "\n",
    "R = np.random.rand(T,N) # UPDATE\n",
    "\n",
    "z_full = Array.create(\"z_full\", shape= (N, K), vartype=\"BINARY\")\n",
    "\n",
    "r_eps_norm = Array.create(\"r_eps\", shape=(K, 1), vartype=\"BINARY\")\n",
    "\n",
    "A_norm =  Array.create(\"A\", shape=(K, 1), vartype=\"BINARY\")\n",
    "A_max = z\n",
    "\n",
    "B_norm =  Array.create(\"B_full\", shape=(T, K), vartype=\"BINARY\")\n",
    "B_max = np.random.rand(T) # UPDATE\n",
    "\n",
    "C_norm =  Array.create(\"C\", shape=(K, 1), vartype=\"BINARY\")\n",
    "C_max = eps*T\n",
    "\n",
    "\n",
    "y = Array.create(\"y\", shape=(T, 1), vartype=\"BINARY\")\n",
    "\n",
    "def binary2integer_norm(z):\n",
    "    K = len(z)\n",
    "    return sum([2**((k+1)-1-K)*z[k] for k in range(0,K)])\n",
    "\n",
    "\n",
    "r_eps = z*(-1 + binary2integer_norm(r_eps_norm))\n",
    "A = A_max*binary2integer_norm(A_norm)\n",
    "C = C_max*binary2integer_norm(C_norm)\n",
    "\n",
    "M = 10000\n",
    "\n",
    "def IV(n):\n",
    "    return (n*n - n)/2 + n"
   ]
  },
  {
   "cell_type": "code",
   "execution_count": 26,
   "id": "984954d0-0ceb-4365-83a6-4aa0a71e480c",
   "metadata": {},
   "outputs": [],
   "source": [
    "H_var = 0\n",
    "for i in range(N):\n",
    "    for j in range(N):\n",
    "        H_var += binary2integer_norm(z_full[i])*binary2integer_norm(z_full[j])*Sigma[i,j]"
   ]
  },
  {
   "cell_type": "code",
   "execution_count": 27,
   "id": "001fd2d2-5c9b-4d8e-a372-65360fa58f28",
   "metadata": {},
   "outputs": [],
   "source": [
    "H_exp = 0\n",
    "for i in range(N):\n",
    "        H_exp += Mu[i]*binary2integer_norm(z_full[i])"
   ]
  },
  {
   "cell_type": "code",
   "execution_count": 28,
   "id": "0c010e01-e680-4f71-8f75-67feadd7c90e",
   "metadata": {},
   "outputs": [],
   "source": [
    "L1 = 100\n",
    "\n",
    "H1 = L1*Constraint((-r_eps[0] - z + A[0])**2, \"H1\")\n",
    "\n",
    "H1_dict = {'L1': 5.0}"
   ]
  },
  {
   "cell_type": "code",
   "execution_count": 29,
   "id": "b3e98794-3326-4003-8e62-22353d853a02",
   "metadata": {},
   "outputs": [],
   "source": [
    "L2s = ['L2_{}'.format(t) for t in range(T)]\n",
    "\n",
    "H2 = sum([Placeholder(L2s[t])*Constraint((r_eps[0] \n",
    "                       - sum([R[t,j]*binary2integer_norm(z_full[j]) for j in range(N)]) \n",
    "                       - M*(1-y[t][0])+1-1 \n",
    "                       + B_max[t]*binary2integer_norm(B_norm[t]))**2 , \"H2_{}\".format(t)) for t in range(T)])\n",
    "\n",
    "M_dict = {\"M\": 1}\n",
    "L2s_dict = dict(zip(L2s, [1]*T))\n",
    "H2_dict = {**M_dict, **L2s_dict}"
   ]
  },
  {
   "cell_type": "code",
   "execution_count": 30,
   "id": "37ec88b8-e64e-4613-83ec-d4dcade3c98b",
   "metadata": {},
   "outputs": [],
   "source": [
    "L3 = 100\n",
    "\n",
    "H3 = L3*Constraint(((1-eps)*T - sum(y)[0] + C[0] )**2, \"H3\")\n",
    "\n",
    "H3_dict = {'L3': 5.0}"
   ]
  },
  {
   "cell_type": "code",
   "execution_count": 31,
   "id": "20a04a02-487a-4764-88f8-60172830062a",
   "metadata": {},
   "outputs": [],
   "source": [
    "L4 = 500\n",
    "\n",
    "H4 = L4*Constraint((sum([binary2integer_norm(z_full[i]) for i in range(N)]))**2, \"H4\")\n",
    "\n",
    "H4_dict = {'L4': 5.0}"
   ]
  },
  {
   "cell_type": "code",
   "execution_count": 32,
   "id": "54358ac0-efaf-4c10-8b48-6951f12e15ff",
   "metadata": {},
   "outputs": [],
   "source": [
    "H = H_var - H_exp + (H4+1-1) + (H1+1-1) + (H3+1-1) + (H2+1-1)\n",
    "H_dict = {**H4_dict ,**H3_dict ,**H2_dict ,**H1_dict}"
   ]
  },
  {
   "cell_type": "code",
   "execution_count": 33,
   "id": "f8341ed5-c8d7-4b59-9055-7a5791f72990",
   "metadata": {},
   "outputs": [],
   "source": [
    "model = H.compile()"
   ]
  },
  {
   "cell_type": "code",
   "execution_count": 34,
   "id": "d8231778-cbf6-4f4b-b4e9-61f57f889bd1",
   "metadata": {},
   "outputs": [],
   "source": [
    "qubo = model.to_bqm(feed_dict= H_dict)"
   ]
  },
  {
   "cell_type": "code",
   "execution_count": 35,
   "id": "643d574c-c36b-484d-92c3-b9d90a6af70b",
   "metadata": {},
   "outputs": [],
   "source": [
    "from dwave.samplers import SimulatedAnnealingSampler"
   ]
  },
  {
   "cell_type": "code",
   "execution_count": 36,
   "id": "75ab433b-9d0d-4a31-aa62-e80b465bf4f3",
   "metadata": {},
   "outputs": [
    {
     "ename": "",
     "evalue": "",
     "output_type": "error",
     "traceback": [
      "\u001b[1;31mThe Kernel crashed while executing code in the the current cell or a previous cell. Please review the code in the cell(s) to identify a possible cause of the failure. Click <a href='https://aka.ms/vscodeJupyterKernelCrash'>here</a> for more info. View Jupyter <a href='command:jupyter.viewOutput'>log</a> for further details."
     ]
    }
   ],
   "source": [
    "sampler = SimulatedAnnealingSampler()\n",
    "sampleset = sampler.sample(qubo)\n",
    "samples = model.decode_sampleset(sampleset)\n",
    "#best_sample = min(samples, key=lambda s: s.energy)\n",
    "#print(best_sample.sample)\n",
    "\n",
    "#print(best_sample.constraints())"
   ]
  }
 ],
 "metadata": {
  "kernelspec": {
   "display_name": "Python 3 (ipykernel)",
   "language": "python",
   "name": "python3"
  },
  "language_info": {
   "codemirror_mode": {
    "name": "ipython",
    "version": 3
   },
   "file_extension": ".py",
   "mimetype": "text/x-python",
   "name": "python",
   "nbconvert_exporter": "python",
   "pygments_lexer": "ipython3",
   "version": "3.11.7"
  }
 },
 "nbformat": 4,
 "nbformat_minor": 5
}
