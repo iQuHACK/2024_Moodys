{
 "cells": [
  {
   "cell_type": "markdown",
   "id": "39502968-c6bb-4b52-8a6e-bc58fb5d8cc3",
   "metadata": {},
   "source": [
    "Deriving z."
   ]
  },
  {
   "cell_type": "code",
   "execution_count": 1,
   "id": "8203c1f5-f9fc-472b-b06f-4ca4256bc4ae",
   "metadata": {
    "tags": []
   },
   "outputs": [
    {
     "name": "stderr",
     "output_type": "stream",
     "text": [
      "/tmp/ipykernel_512/3483040339.py:4: DeprecationWarning: \n",
      "Pyarrow will become a required dependency of pandas in the next major release of pandas (pandas 3.0),\n",
      "(to allow more performant data types, such as the Arrow string type, and better interoperability with other libraries)\n",
      "but was not found to be installed on your system.\n",
      "If this would cause problems for you,\n",
      "please provide us feedback at https://github.com/pandas-dev/pandas/issues/54466\n",
      "        \n",
      "  import pandas as pd\n",
      "/tmp/ipykernel_512/3483040339.py:10: FutureWarning: The 'delim_whitespace' keyword in pd.read_csv is deprecated and will be removed in a future version. Use ``sep='\\s+'`` instead\n",
      "  df = pd.read_csv('returns_data.txt',delim_whitespace=True)\n"
     ]
    }
   ],
   "source": [
    "# modifying \"reading in financial data\" to 32 assets and right T value\n",
    "\n",
    "import numpy as np\n",
    "import pandas as pd\n",
    "\n",
    "# You may choose to select different parameters/values\n",
    "number_assets = 32\n",
    "T  = 392\n",
    "# Read returns\n",
    "df = pd.read_csv('returns_data.txt',delim_whitespace=True)\n",
    "\n",
    "Rraw = df.values.T\n",
    "\n",
    "# Select the first N,T assets and scenarios, you may choose a different strategy if you would like to do so.\n",
    "R = Rraw[:number_assets,:T]\n",
    "\n",
    "# Expected return of each asset\n",
    "expected_returns = np.mean(R, axis = 1)\n",
    "\n",
    "# Covariance matrix of asset returns\n",
    "covariance_matrix = np.cov(R)"
   ]
  },
  {
   "cell_type": "code",
   "execution_count": 23,
   "id": "1454b6b3-e891-4511-8c78-f8396fedce42",
   "metadata": {
    "tags": []
   },
   "outputs": [
    {
     "data": {
      "text/plain": [
       "(array([5.09966343e-02, 4.53727733e-03, 1.00000515e-02, 2.29285930e-02,\n",
       "        3.09233780e-02, 1.15785783e-03, 4.23591284e-02, 5.60462282e-02,\n",
       "        4.28687344e-02, 2.88422553e-06, 9.16611045e-03, 2.08512285e-02,\n",
       "        1.74773246e-02, 4.98874449e-02, 3.34892557e-02, 2.18674602e-02,\n",
       "        1.30252699e-02, 2.88221387e-02, 3.96564751e-02, 5.59792135e-02,\n",
       "        4.05992617e-02, 1.04650265e-02, 5.25108242e-02, 3.42191975e-02,\n",
       "        9.83692217e-03, 5.60762032e-02, 2.96385619e-02, 5.40760816e-02,\n",
       "        4.28708190e-02, 3.60760968e-02, 2.97263551e-02, 5.18619619e-02]),\n",
       " 0.9999999999999999)"
      ]
     },
     "execution_count": 23,
     "metadata": {},
     "output_type": "execute_result"
    }
   ],
   "source": [
    "# import random weight function from random_weights.ipynb\n",
    "\n",
    "def generate_random_weights(number_of_assets):\n",
    "    weights = np.random.rand(number_of_assets) # Generate random numbers\n",
    "    weights /= np.sum(weights) # Normalize so that the sum is 1\n",
    "    return weights\n",
    "\n",
    "# Test the function with 32 assets\n",
    "n_assets = 32\n",
    "random_weights = generate_random_weights(n_assets)\n",
    "random_weights, sum(random_weights)\n"
   ]
  },
  {
   "cell_type": "code",
   "execution_count": 24,
   "id": "864d0c11-90ac-4fb3-8a06-ddbbf77add41",
   "metadata": {
    "tags": []
   },
   "outputs": [],
   "source": [
    "# Redefining the calculate_historical_VaR function\n",
    "def calculate_historical_VaR(weights, mu_R, confidence_level=0.95):\n",
    "    portfolio_returns = np.dot(mu_R, np.transpose(np.array(weights)))\n",
    "    VaR = np.percentile(portfolio_returns, 100 * (1 - confidence_level))\n",
    "    return -VaR\n",
    "\n",
    "# Define a function to simulate the random generation of weights and calculation of VaR\n",
    "def simulate_VaR(num_simulations, num_assets, mu_R, confidence_level=0.95):\n",
    "    VaR_results = []\n",
    "    weights_list = []\n",
    "\n",
    "    for _ in range(num_simulations):\n",
    "        weights = generate_random_weights(num_assets)\n",
    "        VaR = calculate_historical_VaR(weights, mu_R, confidence_level)\n",
    "        VaR_results.append(VaR)\n",
    "        weights_list.append(weights)\n",
    "    \n",
    "    return VaR_results, weights_list"
   ]
  },
  {
   "cell_type": "code",
   "execution_count": 25,
   "id": "74fdb282-cfd1-4ac7-84f1-2a2c0d79139a",
   "metadata": {
    "tags": []
   },
   "outputs": [
    {
     "data": {
      "text/plain": [
       "([0.33478069678017486,\n",
       "  0.31380399284909316,\n",
       "  0.33764572699909956,\n",
       "  0.3552637321435413,\n",
       "  0.3078384247834268],\n",
       " [array([0.03563346, 0.04352192, 0.02860185, 0.05366071, 0.00273621,\n",
       "         0.01050274, 0.03983288, 0.00543957, 0.037661  , 0.00371156,\n",
       "         0.05034161, 0.00014823, 0.00145112, 0.03447267, 0.04733192,\n",
       "         0.01874436, 0.01923075, 0.04976332, 0.03784558, 0.05275445,\n",
       "         0.05605801, 0.05505757, 0.03344434, 0.03201722, 0.02835223,\n",
       "         0.019846  , 0.0409556 , 0.05237392, 0.03053973, 0.04146229,\n",
       "         0.01626037, 0.02024677]),\n",
       "  array([0.04687872, 0.032786  , 0.0125963 , 0.03430151, 0.0162518 ,\n",
       "         0.0082743 , 0.02358875, 0.04415627, 0.0217607 , 0.04591394,\n",
       "         0.04507806, 0.04419739, 0.04813156, 0.00641797, 0.01725279,\n",
       "         0.00813625, 0.03020361, 0.04028722, 0.05129885, 0.04795799,\n",
       "         0.02350275, 0.01127891, 0.00113751, 0.04436431, 0.04858859,\n",
       "         0.02265057, 0.02337002, 0.0431164 , 0.0352238 , 0.04258584,\n",
       "         0.04689514, 0.03181619]),\n",
       "  array([0.0211461 , 0.0529119 , 0.07285264, 0.00050029, 0.03326014,\n",
       "         0.02911207, 0.00682674, 0.05442366, 0.04658641, 0.0189938 ,\n",
       "         0.07284515, 0.03484071, 0.05311161, 0.01557952, 0.01951858,\n",
       "         0.01420304, 0.02244713, 0.06186267, 0.00335635, 0.03571577,\n",
       "         0.02570347, 0.03125191, 0.03170835, 0.00690012, 0.01399259,\n",
       "         0.02294648, 0.00574843, 0.05621745, 0.0628539 , 0.06235272,\n",
       "         0.00371388, 0.00651645]),\n",
       "  array([0.01424482, 0.06156012, 0.00174449, 0.00731834, 0.05656582,\n",
       "         0.01016888, 0.0442818 , 0.0469028 , 0.01712657, 0.0605412 ,\n",
       "         0.0334373 , 0.00687328, 0.02064063, 0.02578439, 0.06548179,\n",
       "         0.03952896, 0.0617938 , 0.03850067, 0.02258279, 0.00804128,\n",
       "         0.00663337, 0.0614951 , 0.0117445 , 0.06548832, 0.01967127,\n",
       "         0.01175255, 0.05695005, 0.00917514, 0.02767445, 0.00419278,\n",
       "         0.04953954, 0.03256321]),\n",
       "  array([0.0132437 , 0.02751263, 0.03705897, 0.04919671, 0.03761503,\n",
       "         0.04895974, 0.0034073 , 0.02950381, 0.04254487, 0.0370143 ,\n",
       "         0.04606661, 0.00758007, 0.03064939, 0.04778214, 0.03431231,\n",
       "         0.04050375, 0.04726696, 0.00553647, 0.00418306, 0.0428012 ,\n",
       "         0.04052225, 0.03519681, 0.02109712, 0.01979697, 0.04047861,\n",
       "         0.0453971 , 0.03042294, 0.02994999, 0.03816592, 0.03182084,\n",
       "         0.03069817, 0.00371424])])"
      ]
     },
     "execution_count": 25,
     "metadata": {},
     "output_type": "execute_result"
    }
   ],
   "source": [
    "# Example usage\n",
    "num_simulations = 1000  # The number of times we want to run the simulation\n",
    "num_assets = 32  # Number of assets in the portfolio\n",
    "\n",
    "# We need the mu_R matrix to run the simulations which should be the historical returns matrix\n",
    "# For the sake of the example, let's create a dummy mu_R with random values\n",
    "# Normally, you would use actual historical returns data for your assets here\n",
    "mu_R = np.random.randn(1000, num_assets)  # 1000 scenarios, 32 assets\n",
    "\n",
    "# Run the simulation\n",
    "VaR_results, weights_list = simulate_VaR(num_simulations, num_assets, mu_R)\n",
    "\n",
    "# Display the first few results to ensure it's working\n",
    "VaR_results[:5], weights_list[:5]"
   ]
  },
  {
   "cell_type": "code",
   "execution_count": 12,
   "id": "434a4807-8824-48f7-bad9-1b6e8c0c57d9",
   "metadata": {
    "tags": []
   },
   "outputs": [
    {
     "ename": "TypeError",
     "evalue": "generate_random_weights() takes 1 positional argument but 2 were given",
     "output_type": "error",
     "traceback": [
      "\u001b[0;31m---------------------------------------------------------------------------\u001b[0m",
      "\u001b[0;31mTypeError\u001b[0m                                 Traceback (most recent call last)",
      "Cell \u001b[0;32mIn[12], line 14\u001b[0m\n\u001b[1;32m     11\u001b[0m mu_R \u001b[38;5;241m=\u001b[39m np\u001b[38;5;241m.\u001b[39mrandom\u001b[38;5;241m.\u001b[39mrandn(\u001b[38;5;241m1000\u001b[39m, number_of_assets)  \u001b[38;5;66;03m# This should be the historical returns data for your assets\u001b[39;00m\n\u001b[1;32m     13\u001b[0m \u001b[38;5;66;03m# Generate the random weights for the portfolios\u001b[39;00m\n\u001b[0;32m---> 14\u001b[0m random_weights \u001b[38;5;241m=\u001b[39m \u001b[43mgenerate_random_weights\u001b[49m\u001b[43m(\u001b[49m\u001b[43mnumber_of_assets\u001b[49m\u001b[43m,\u001b[49m\u001b[43m \u001b[49m\u001b[43mnumber_of_portfolios\u001b[49m\u001b[43m)\u001b[49m\n\u001b[1;32m     16\u001b[0m \u001b[38;5;66;03m# Calculate the VaR for each portfolio\u001b[39;00m\n\u001b[1;32m     17\u001b[0m VaRs \u001b[38;5;241m=\u001b[39m []\n",
      "\u001b[0;31mTypeError\u001b[0m: generate_random_weights() takes 1 positional argument but 2 were given"
     ]
    }
   ],
   "source": [
    "# let's now actually calculate z\n",
    "\n",
    "\n",
    "# Parameters\n",
    "number_of_assets = 32\n",
    "number_of_portfolios = 1000  # The number of random portfolios you want to generate\n",
    "confidence_level = 0.95\n",
    "\n",
    "# Assuming mu_R is matrix of historical returns for the assets\n",
    "# Replace this with our actual historical returns data\n",
    "mu_R = np.random.randn(1000, number_of_assets)  # This should be the historical returns data for your assets\n",
    "\n",
    "# Generate the random weights for the portfolios\n",
    "random_weights = generate_random_weights(number_of_assets, number_of_portfolios)\n",
    "\n",
    "# Calculate the VaR for each portfolio\n",
    "VaRs = []\n",
    "for weights in random_weights:\n",
    "    VaR = calculate_historical_VaR(weights, mu_R, confidence_level)\n",
    "    VaRs.append(VaR)\n",
    "\n",
    "# Find the z value for your constraint equations\n",
    "# This could be the mean VaR, median VaR, or some other statistic that you determine is appropriate for your needs\n",
    "mean_VaR = np.mean(VaRs)\n",
    "median_VaR = np.median(VaRs)\n",
    "z = mean_VaR  # or median_VaR, depending on your specific requirements\n",
    "\n",
    "print(f\"The mean VaR at a {confidence_level*100}% confidence level is: {mean_VaR}\")\n",
    "print(f\"The median VaR at a {confidence_level*100}% confidence level is: {median_VaR}\")"
   ]
  },
  {
   "cell_type": "code",
   "execution_count": null,
   "id": "96b1afa0-a9b9-4f7c-b891-6dbc0eedf3df",
   "metadata": {},
   "outputs": [],
   "source": []
  }
 ],
 "metadata": {
  "kernelspec": {
   "display_name": "Python 3 [Moody's]",
   "language": "python",
   "name": "python3_moodys_xbto4j"
  },
  "language_info": {
   "codemirror_mode": {
    "name": "ipython",
    "version": 3
   },
   "file_extension": ".py",
   "mimetype": "text/x-python",
   "name": "python",
   "nbconvert_exporter": "python",
   "pygments_lexer": "ipython3",
   "version": "3.9.18"
  }
 },
 "nbformat": 4,
 "nbformat_minor": 5
}
