{
 "cells": [
  {
   "cell_type": "markdown",
   "id": "39502968-c6bb-4b52-8a6e-bc58fb5d8cc3",
   "metadata": {
    "jupyter": {
     "source_hidden": true
    },
    "tags": []
   },
   "source": [
    "Deriving z."
   ]
  },
  {
   "cell_type": "code",
   "execution_count": null,
   "id": "8203c1f5-f9fc-472b-b06f-4ca4256bc4ae",
   "metadata": {
    "tags": []
   },
   "outputs": [],
   "source": [
    "# modifying \"reading in financial data\" to 32 assets and right T value\n",
    "\n",
    "import numpy as np\n",
    "import pandas as pd\n",
    "\n",
    "# You may choose to select different parameters/values\n",
    "number_assets = 32\n",
    "T  = 392\n",
    "# Read returns\n",
    "df = pd.read_csv('returns_data.txt',delim_whitespace=True)\n",
    "\n",
    "Rraw = df.values.T\n",
    "\n",
    "# Select the first N,T assets and scenarios, you may choose a different strategy if you would like to do so.\n",
    "R = Rraw[:number_assets,:T]\n",
    "\n",
    "# Expected return of each asset\n",
    "expected_returns = np.mean(R, axis = 1)\n",
    "\n",
    "# Covariance matrix of asset returns\n",
    "covariance_matrix = np.cov(R)"
   ]
  },
  {
   "cell_type": "code",
   "execution_count": null,
   "id": "1454b6b3-e891-4511-8c78-f8396fedce42",
   "metadata": {
    "tags": []
   },
   "outputs": [],
   "source": [
    "# import random weight function from random_weights.ipynb\n",
    "\n",
    "def generate_random_weights(number_of_assets):\n",
    "    weights = np.random.rand(number_of_assets) # Generate random numbers\n",
    "    weights /= np.sum(weights) # Normalize so that the sum is 1\n",
    "    return weights\n",
    "\n",
    "# Test the function with 32 assets\n",
    "n_assets = 32\n",
    "random_weights = generate_random_weights(n_assets)\n",
    "random_weights, sum(random_weights)\n"
   ]
  },
  {
   "cell_type": "code",
   "execution_count": null,
   "id": "864d0c11-90ac-4fb3-8a06-ddbbf77add41",
   "metadata": {
    "tags": []
   },
   "outputs": [],
   "source": [
    "# Redefining the calculate_historical_VaR function\n",
    "def calculate_historical_VaR(weights, mu_R, confidence_level=0.95):\n",
    "    # Calculate portfolio returns for the given weights\n",
    "    portfolio_returns = np.dot(mu_R, np.transpose(np.array(weights)))\n",
    "    # Calculate the VaR at the specified confidence level\n",
    "    VaR = np.percentile(portfolio_returns, 100 * (1 - confidence_level))\n",
    "    return -VaR"
   ]
  },
  {
   "cell_type": "code",
   "execution_count": null,
   "id": "d9e7df0d-6d54-41d0-8396-3419e202c41f",
   "metadata": {},
   "outputs": [],
   "source": [
    "# Define a function to simulate the random generation of weights and calculation of VaR\n",
    "def simulate_VaR(num_simulations, num_assets, mu_R, confidence_level=0.95):\n",
    "    VaR_results = []\n",
    "    weights_list = []\n",
    "\n",
    "    for _ in range(num_simulations):\n",
    "        weights = generate_random_weights(num_assets)\n",
    "        VaR = calculate_historical_VaR(weights, mu_R, confidence_level)\n",
    "        VaR_results.append(VaR)\n",
    "        weights_list.append(weights)\n",
    "    \n",
    "    return VaR_results, weights_list"
   ]
  },
  {
   "cell_type": "code",
   "execution_count": null,
   "id": "74fdb282-cfd1-4ac7-84f1-2a2c0d79139a",
   "metadata": {
    "tags": []
   },
   "outputs": [],
   "source": [
    "# Example usage\n",
    "num_simulations = 1000  # The number of times we want to run the simulation\n",
    "num_assets = 32  # Number of assets in the portfolio\n",
    "\n",
    "# We need the mu_R matrix to run the simulations which should be the historical returns matrix\n",
    "# For the sake of the example, let's create a dummy mu_R with random values\n",
    "# Normally, you would use actual historical returns data for your assets here\n",
    "mu_R = np.random.randn(1000, num_assets)  # 1000 scenarios, 32 assets\n",
    "\n",
    "# Run the simulation\n",
    "VaR_results, weights_list = simulate_VaR(num_simulations, num_assets, mu_R)\n",
    "\n",
    "# Display the first few results to ensure it's working\n",
    "VaR_results[:5], weights_list[:5]"
   ]
  },
  {
   "cell_type": "code",
   "execution_count": null,
   "id": "434a4807-8824-48f7-bad9-1b6e8c0c57d9",
   "metadata": {
    "tags": []
   },
   "outputs": [],
   "source": [
    "# let's now actually calculate z\n",
    "\n",
    "# Parameters\n",
    "number_of_assets = 32\n",
    "number_of_portfolios = 1000  # The number of random portfolios you want to generate\n",
    "confidence_level = 0.95\n",
    "\n",
    "# Assuming mu_R is the matrix of historical returns for the assets\n",
    "# Replace this with your actual historical returns data\n",
    "mu_R = expected_returns  # This should be the historical returns data for your assets\n",
    "\n",
    "# Generate the random weights for the portfolios and calculate the VaR for each\n",
    "VaRs = []\n",
    "for _ in range(number_of_portfolios):\n",
    "    weights = generate_random_weights(number_of_assets)\n",
    "    VaR = calculate_historical_VaR(weights, mu_R, confidence_level)\n",
    "    VaRs.append(VaR)\n",
    "\n",
    "# Calculate z\n",
    "mean_VaR = np.mean(VaRs)\n",
    "median_VaR = np.median(VaRs)\n",
    "z = mean_VaR  # or median_VaR, depending on your specific requirements\n",
    "\n",
    "print(f\"The mean VaR at a {confidence_level*100}% confidence level is: {mean_VaR}\")\n",
    "print(f\"The median VaR at a {confidence_level*100}% confidence level is: {median_VaR}\")\n"
   ]
  },
  {
   "cell_type": "code",
   "execution_count": null,
   "id": "96b1afa0-a9b9-4f7c-b891-6dbc0eedf3df",
   "metadata": {},
   "outputs": [],
   "source": []
  },
  {
   "cell_type": "code",
   "execution_count": null,
   "id": "297bcd02-43bb-4a1c-a4c6-1ef6a08bbfed",
   "metadata": {},
   "outputs": [],
   "source": []
  }
 ],
 "metadata": {
  "kernelspec": {
   "display_name": "Python 3 [Moody's]",
   "language": "python",
   "name": "python3_moodys_xbto4j"
  },
  "language_info": {
   "codemirror_mode": {
    "name": "ipython",
    "version": 3
   },
   "file_extension": ".py",
   "mimetype": "text/x-python",
   "name": "python",
   "nbconvert_exporter": "python",
   "pygments_lexer": "ipython3",
   "version": "3.9.18"
  }
 },
 "nbformat": 4,
 "nbformat_minor": 5
}
