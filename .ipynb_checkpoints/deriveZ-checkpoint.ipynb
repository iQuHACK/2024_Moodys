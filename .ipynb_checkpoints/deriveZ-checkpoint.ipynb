{
 "cells": [
  {
   "cell_type": "markdown",
   "id": "39502968-c6bb-4b52-8a6e-bc58fb5d8cc3",
   "metadata": {
    "tags": []
   },
   "source": [
    "Deriving z."
   ]
  },
  {
   "cell_type": "code",
   "execution_count": 32,
   "id": "8203c1f5-f9fc-472b-b06f-4ca4256bc4ae",
   "metadata": {
    "tags": []
   },
   "outputs": [
    {
     "name": "stderr",
     "output_type": "stream",
     "text": [
      "/tmp/ipykernel_512/3483040339.py:10: FutureWarning: The 'delim_whitespace' keyword in pd.read_csv is deprecated and will be removed in a future version. Use ``sep='\\s+'`` instead\n",
      "  df = pd.read_csv('returns_data.txt',delim_whitespace=True)\n"
     ]
    }
   ],
   "source": [
    "# modifying \"reading in financial data\" to 32 assets and right T value\n",
    "\n",
    "import numpy as np\n",
    "import pandas as pd\n",
    "\n",
    "# You may choose to select different parameters/values\n",
    "number_assets = 32\n",
    "T  = 392\n",
    "# Read returns\n",
    "df = pd.read_csv('returns_data.txt',delim_whitespace=True)\n",
    "\n",
    "Rraw = df.values.T\n",
    "\n",
    "# Select the first N,T assets and scenarios, you may choose a different strategy if you would like to do so.\n",
    "R = Rraw[:number_assets,:T]\n",
    "\n",
    "# Expected return of each asset\n",
    "expected_returns = np.mean(R, axis = 1)\n",
    "\n",
    "# Covariance matrix of asset returns\n",
    "covariance_matrix = np.cov(R)"
   ]
  },
  {
   "cell_type": "code",
   "execution_count": 33,
   "id": "1454b6b3-e891-4511-8c78-f8396fedce42",
   "metadata": {
    "tags": []
   },
   "outputs": [
    {
     "data": {
      "text/plain": [
       "(array([4.51054074e-03, 8.73512634e-05, 7.90540398e-03, 1.40783575e-02,\n",
       "        2.07775903e-02, 1.64123539e-03, 1.91034896e-02, 1.28609808e-02,\n",
       "        2.80859844e-04, 6.61409780e-02, 6.51414292e-02, 3.98803992e-02,\n",
       "        7.00376103e-02, 3.46769279e-02, 4.44522258e-02, 1.80953143e-02,\n",
       "        5.18566058e-02, 1.49361414e-02, 2.43586883e-02, 4.35945518e-02,\n",
       "        7.52722277e-02, 7.10196380e-02, 1.96061804e-03, 3.71767195e-03,\n",
       "        8.65341180e-03, 2.16549540e-02, 4.95875647e-02, 7.07621919e-02,\n",
       "        6.89387137e-02, 5.14832364e-03, 5.86121947e-02, 1.02558085e-02]),\n",
       " 1.0000000000000002)"
      ]
     },
     "execution_count": 33,
     "metadata": {},
     "output_type": "execute_result"
    }
   ],
   "source": [
    "# import random weight function from random_weights.ipynb\n",
    "\n",
    "def generate_random_weights(number_of_assets):\n",
    "    weights = np.random.rand(number_of_assets) # Generate random numbers\n",
    "    weights /= np.sum(weights) # Normalize so that the sum is 1\n",
    "    return weights\n",
    "\n",
    "# Test the function with 32 assets\n",
    "n_assets = 32\n",
    "random_weights = generate_random_weights(n_assets)\n",
    "random_weights, sum(random_weights)\n"
   ]
  },
  {
   "cell_type": "code",
   "execution_count": 34,
   "id": "864d0c11-90ac-4fb3-8a06-ddbbf77add41",
   "metadata": {
    "tags": []
   },
   "outputs": [],
   "source": [
    "# Redefining the calculate_historical_VaR function\n",
    "def calculate_historical_VaR(weights, mu_R, confidence_level=0.95):\n",
    "    # Calculate portfolio returns for the given weights\n",
    "    portfolio_returns = np.dot(mu_R, np.transpose(np.array(weights)))\n",
    "    # Calculate the VaR at the specified confidence level\n",
    "    VaR = np.percentile(portfolio_returns, 100 * (1 - confidence_level))\n",
    "    return -VaR"
   ]
  },
  {
   "cell_type": "code",
   "execution_count": 35,
   "id": "d9e7df0d-6d54-41d0-8396-3419e202c41f",
   "metadata": {
    "tags": []
   },
   "outputs": [],
   "source": [
    "# Define a function to simulate the random generation of weights and calculation of VaR\n",
    "def simulate_VaR(num_simulations, num_assets, mu_R, confidence_level=0.95):\n",
    "    VaR_results = []\n",
    "    weights_list = []\n",
    "\n",
    "    for _ in range(num_simulations):\n",
    "        weights = generate_random_weights(num_assets)\n",
    "        VaR = calculate_historical_VaR(weights, mu_R, confidence_level)\n",
    "        VaR_results.append(VaR)\n",
    "        weights_list.append(weights)\n",
    "    \n",
    "    return VaR_results, weights_list"
   ]
  },
  {
   "cell_type": "code",
   "execution_count": 36,
   "id": "74fdb282-cfd1-4ac7-84f1-2a2c0d79139a",
   "metadata": {
    "tags": []
   },
   "outputs": [
    {
     "data": {
      "text/plain": [
       "([0.355336682932509,\n",
       "  0.3486524751161616,\n",
       "  0.3153310798265738,\n",
       "  0.3458236857416237,\n",
       "  0.3284936295255029],\n",
       " [array([0.04355964, 0.00331318, 0.03962351, 0.00446816, 0.02004242,\n",
       "         0.0073511 , 0.05799071, 0.04472408, 0.06603708, 0.00088515,\n",
       "         0.00764356, 0.0047062 , 0.05034145, 0.00329546, 0.01488312,\n",
       "         0.05515591, 0.04475396, 0.01491287, 0.0683395 , 0.07056326,\n",
       "         0.03745494, 0.02609458, 0.02203422, 0.01296996, 0.050467  ,\n",
       "         0.01384013, 0.04922779, 0.03142448, 0.01422148, 0.00488373,\n",
       "         0.05422915, 0.06056223]),\n",
       "  array([0.04874561, 0.03993086, 0.04785653, 0.05465976, 0.00019219,\n",
       "         0.04019522, 0.00810607, 0.06345375, 0.02573358, 0.02708537,\n",
       "         0.04455019, 0.04537882, 0.02676014, 0.0433288 , 0.06012773,\n",
       "         0.02735331, 0.05145284, 0.01656183, 0.01235625, 0.00276128,\n",
       "         0.01715967, 0.04823428, 0.00194451, 0.04691764, 0.05292875,\n",
       "         0.02993959, 0.00154663, 0.04849301, 0.01671295, 0.02641807,\n",
       "         0.01500313, 0.00811164]),\n",
       "  array([0.05407912, 0.00771579, 0.03898179, 0.0360573 , 0.04710808,\n",
       "         0.02554926, 0.03036403, 0.04929535, 0.03950859, 0.03908034,\n",
       "         0.05741809, 0.03047458, 0.05604574, 0.00530165, 0.02561892,\n",
       "         0.01067558, 0.02881062, 0.03662797, 0.03708003, 0.01491708,\n",
       "         0.03633884, 0.0174767 , 0.03415313, 0.01768372, 0.00391247,\n",
       "         0.04466098, 0.06156805, 0.00268126, 0.01123347, 0.03619209,\n",
       "         0.03278803, 0.03060133]),\n",
       "  array([0.01324834, 0.02055701, 0.03873027, 0.05622685, 0.04835239,\n",
       "         0.03054007, 0.02763519, 0.05789158, 0.0541646 , 0.00560576,\n",
       "         0.00030345, 0.03324706, 0.03112665, 0.02911636, 0.02694478,\n",
       "         0.06162621, 0.06285638, 0.00590672, 0.04596359, 0.00188474,\n",
       "         0.00836228, 0.04720747, 0.0179548 , 0.03406875, 0.03500403,\n",
       "         0.02352799, 0.02899271, 0.0351087 , 0.04108958, 0.00511435,\n",
       "         0.02003537, 0.05160599]),\n",
       "  array([0.03928864, 0.06604121, 0.04455049, 0.05844166, 0.03450061,\n",
       "         0.00578215, 0.00745817, 0.04684066, 0.02250656, 0.05992387,\n",
       "         0.0013096 , 0.03850481, 0.05485348, 0.00092822, 0.02524379,\n",
       "         0.06463862, 0.03410129, 0.01284057, 0.04778934, 0.01594721,\n",
       "         0.0531338 , 0.00809094, 0.01694831, 0.03596166, 0.01669566,\n",
       "         0.009567  , 0.0003432 , 0.03155908, 0.03194489, 0.06121041,\n",
       "         0.02109639, 0.03195769])])"
      ]
     },
     "execution_count": 36,
     "metadata": {},
     "output_type": "execute_result"
    }
   ],
   "source": [
    "# Example usage\n",
    "num_simulations = 1000  # The number of times we want to run the simulation\n",
    "num_assets = 32  # Number of assets in the portfolio\n",
    "\n",
    "# We need the mu_R matrix to run the simulations which should be the historical returns matrix\n",
    "# For the sake of the example, let's create a dummy mu_R with random values\n",
    "# Normally, you would use actual historical returns data for your assets here\n",
    "mu_R = np.random.randn(1000, num_assets)  # 1000 scenarios, 32 assets\n",
    "\n",
    "# Run the simulation\n",
    "VaR_results, weights_list = simulate_VaR(num_simulations, num_assets, mu_R)\n",
    "\n",
    "# Display the first few results to ensure it's working\n",
    "VaR_results[:5], weights_list[:5]"
   ]
  },
  {
   "cell_type": "code",
   "execution_count": 37,
   "id": "434a4807-8824-48f7-bad9-1b6e8c0c57d9",
   "metadata": {
    "tags": []
   },
   "outputs": [
    {
     "name": "stdout",
     "output_type": "stream",
     "text": [
      "The mean VaR at a 95.0% confidence level is: -0.001003955534921795\n",
      "The median VaR at a 95.0% confidence level is: -0.001012017761058015\n"
     ]
    }
   ],
   "source": [
    "# let's now actually calculate z\n",
    "\n",
    "# Parameters\n",
    "number_of_assets = 32\n",
    "number_of_portfolios = 1000  # The number of random portfolios you want to generate\n",
    "confidence_level = 0.95\n",
    "\n",
    "# Assuming mu_R is the matrix of historical returns for the assets\n",
    "# Replace this with your actual historical returns data\n",
    "mu_R = R.T  # This should be the historical returns data for your assets\n",
    "\n",
    "# Generate the random weights for the portfolios and calculate the VaR for each\n",
    "VaRs = []\n",
    "for _ in range(number_of_portfolios):\n",
    "    weights = generate_random_weights(number_of_assets)\n",
    "    VaR = calculate_historical_VaR(weights, mu_R, confidence_level)\n",
    "    VaRs.append(VaR)\n",
    "\n",
    "# Calculate z\n",
    "mean_VaR = np.mean(VaRs)\n",
    "median_VaR = np.median(VaRs)\n",
    "z = mean_VaR  # or median_VaR, depending on your specific requirements\n",
    "\n",
    "print(f\"The mean VaR at a {confidence_level*100}% confidence level is: {mean_VaR}\")\n",
    "print(f\"The median VaR at a {confidence_level*100}% confidence level is: {median_VaR}\")\n"
   ]
  },
  {
   "cell_type": "code",
   "execution_count": null,
   "id": "96b1afa0-a9b9-4f7c-b891-6dbc0eedf3df",
   "metadata": {},
   "outputs": [],
   "source": []
  },
  {
   "cell_type": "code",
   "execution_count": null,
   "id": "297bcd02-43bb-4a1c-a4c6-1ef6a08bbfed",
   "metadata": {},
   "outputs": [],
   "source": []
  }
 ],
 "metadata": {
  "kernelspec": {
   "display_name": "Python 3 [Moody's]",
   "language": "python",
   "name": "python3_moodys_xbto4j"
  },
  "language_info": {
   "codemirror_mode": {
    "name": "ipython",
    "version": 3
   },
   "file_extension": ".py",
   "mimetype": "text/x-python",
   "name": "python",
   "nbconvert_exporter": "python",
   "pygments_lexer": "ipython3",
   "version": "3.9.18"
  }
 },
 "nbformat": 4,
 "nbformat_minor": 5
}
