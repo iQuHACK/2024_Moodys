{
 "cells": [
  {
   "cell_type": "code",
   "execution_count": 75,
   "id": "a9ff17c4-a1aa-472b-b4e5-8085a9cfb9cb",
   "metadata": {},
   "outputs": [],
   "source": [
    "import pyqubo\n",
    "from pyqubo import Array, Binary, Constraint, Placeholder\n",
    "import numpy as np\n",
    "\n",
    "\n",
    "def binary2integer_norm(z):\n",
    "    try:\n",
    "        K = len(z)\n",
    "    except:\n",
    "        return 1/2 * z\n",
    "    return sum([2**((k+1)-1-K)*z[k] for k in range(0,K)])\n",
    "\n",
    "N, K = 2,3\n",
    "T = 2\n",
    "z = 0.05\n",
    "eps = 0.1\n",
    "\n",
    "# Data variables\n",
    "\n",
    "Sigma = np.random.rand(N, N) # UPDATE\n",
    "\n",
    "Mu =  np.random.rand(N) # UPDATE\n",
    "\n",
    "R = np.random.rand(T,N) # UPDATE\n",
    "\n",
    "# Slack, nonbasic and other variables\n",
    "\n",
    "z_full = Array.create(\"z_full\", shape= (N,K), vartype=\"BINARY\")\n",
    "\n",
    "r_eps_norm = Array.create(\"r_eps\", shape=(K, 1), vartype=\"BINARY\")\n",
    "\n",
    "A_norm =  Array.create(\"A\", shape=(K, 1), vartype=\"BINARY\")\n",
    "A_max = z\n",
    "A = A_max*binary2integer_norm(A_norm)\n",
    "\n",
    "B_norm =  Array.create(\"B_norm\", shape=(T, K), vartype=\"BINARY\")\n",
    "B_max = np.random.rand(T) # UPDATE\n",
    "\n",
    "C_norm =  Array.create(\"C\", shape=(K, 1), vartype=\"BINARY\")\n",
    "C = C_max*binary2integer_norm(C_norm)\n",
    "C_max = eps*T\n",
    "\n",
    "y = Array.create(\"y\", shape=(T, 1), vartype=\"BINARY\")\n",
    "\n",
    "r_eps = z*(-1 + binary2integer_norm(r_eps_norm))\n",
    "\n",
    "\n",
    "def IV(n):\n",
    "    return (n*n - n)/2 + n"
   ]
  },
  {
   "cell_type": "code",
   "execution_count": 76,
   "id": "984954d0-0ceb-4365-83a6-4aa0a71e480c",
   "metadata": {},
   "outputs": [],
   "source": [
    "H_var = 0\n",
    "for i in range(N):\n",
    "    for j in range(N):\n",
    "        H_var += binary2integer_norm(z_full[i])*binary2integer_norm(z_full[j])*Sigma[i,j]"
   ]
  },
  {
   "cell_type": "code",
   "execution_count": 77,
   "id": "001fd2d2-5c9b-4d8e-a372-65360fa58f28",
   "metadata": {},
   "outputs": [],
   "source": [
    "H_exp = 0\n",
    "for i in range(N):\n",
    "        H_exp += Mu[i]*binary2integer_norm(z_full[i])"
   ]
  },
  {
   "cell_type": "code",
   "execution_count": 78,
   "id": "22f3f7b7-c47d-4a3c-9c6e-725f401e284d",
   "metadata": {},
   "outputs": [],
   "source": [
    "L1 = 100\n",
    "L2s = [100]*T\n",
    "L3 = 100\n",
    "L4 = 10\n",
    "M = 100\n",
    "\n",
    "H1 = L1*Constraint((-r_eps[0] - z + A[0])**2, \"H1\")\n",
    "\n",
    "H2 = sum([L2s[t]*Constraint((r_eps[0] \n",
    "                       - sum([R[t,j]*binary2integer_norm(z_full[j]) for j in range(N)]) \n",
    "                       - M*(1-y[t][0])+1-1 \n",
    "                       + B_max[t]*binary2integer_norm(B_norm[t]))**2 , \"H2_{}\".format(t)) for t in range(T)])\n",
    "\n",
    "H3 = L3*Constraint(((1-eps)*T - sum(y)[0] + C[0] )**2, \"H3\")\n",
    "\n",
    "H4 = L4*Constraint((binary2integer_norm(z_full[0])-1)**2, \"H4\")"
   ]
  },
  {
   "cell_type": "code",
   "execution_count": 79,
   "id": "54358ac0-efaf-4c10-8b48-6951f12e15ff",
   "metadata": {},
   "outputs": [],
   "source": [
    "\n",
    "H = H_var - H_exp + (H2+1-1) + (H4+1-1) + (H3+1-1)"
   ]
  },
  {
   "cell_type": "code",
   "execution_count": 80,
   "id": "f8341ed5-c8d7-4b59-9055-7a5791f72990",
   "metadata": {},
   "outputs": [],
   "source": [
    "model = H.compile()"
   ]
  },
  {
   "cell_type": "code",
   "execution_count": 81,
   "id": "d8231778-cbf6-4f4b-b4e9-61f57f889bd1",
   "metadata": {},
   "outputs": [],
   "source": [
    "qubo, offset = model.to_qubo() #H_dict)"
   ]
  },
  {
   "cell_type": "code",
   "execution_count": 82,
   "id": "643d574c-c36b-484d-92c3-b9d90a6af70b",
   "metadata": {},
   "outputs": [],
   "source": [
    "from dwave.samplers import SimulatedAnnealingSampler"
   ]
  },
  {
   "cell_type": "code",
   "execution_count": 83,
   "id": "d5b48d50-f295-43ac-8e8c-67bf63432b56",
   "metadata": {},
   "outputs": [
    {
     "data": {
      "text/plain": [
       "150"
      ]
     },
     "execution_count": 83,
     "metadata": {},
     "output_type": "execute_result"
    }
   ],
   "source": [
    "len(qubo)"
   ]
  },
  {
   "cell_type": "code",
   "execution_count": 84,
   "id": "75ab433b-9d0d-4a31-aa62-e80b465bf4f3",
   "metadata": {},
   "outputs": [
    {
     "name": "stdout",
     "output_type": "stream",
     "text": [
      "{'B_norm[0][0]': 1, 'B_norm[0][1]': 1, 'B_norm[0][2]': 1, 'B_norm[1][0]': 1, 'C[0][0]': 1, 'B_norm[1][1]': 1, 'B_norm[1][2]': 1, 'C[1][0]': 1, 'C[2][0]': 1, 'r_eps[0][0]': 1, 'r_eps[1][0]': 1, 'r_eps[2][0]': 1, 'y[0][0]': 1, 'y[1][0]': 1, 'z_full[0][0]': 1, 'z_full[0][1]': 0, 'z_full[0][2]': 1, 'z_full[1][0]': 0, 'z_full[1][1]': 0, 'z_full[1][2]': 0}\n"
     ]
    }
   ],
   "source": [
    "sampler = SimulatedAnnealingSampler()\n",
    "sampleset = sampler.sample_qubo(qubo, num_reads=10)\n",
    "samples = model.decode_sampleset(sampleset)\n",
    "best_sample = min(samples, key=lambda s: s.energy)\n",
    "print(best_sample.sample)"
   ]
  },
  {
   "cell_type": "code",
   "execution_count": 85,
   "id": "f0f45162-eb41-4a1f-8dcf-8d3ca00ff01d",
   "metadata": {},
   "outputs": [
    {
     "data": {
      "text/plain": [
       "'B_norm[0][0]'"
      ]
     },
     "execution_count": 85,
     "metadata": {},
     "output_type": "execute_result"
    }
   ],
   "source": [
    "list(best_sample.sample.keys())[0]"
   ]
  },
  {
   "cell_type": "code",
   "execution_count": 86,
   "id": "e37eadc1-3598-4b5f-8166-0640bfb46b48",
   "metadata": {},
   "outputs": [
    {
     "data": {
      "text/plain": [
       "{'B_norm[0][0]': 1,\n",
       " 'B_norm[0][1]': 1,\n",
       " 'B_norm[0][2]': 1,\n",
       " 'B_norm[1][0]': 1,\n",
       " 'C[0][0]': 1,\n",
       " 'B_norm[1][1]': 1,\n",
       " 'B_norm[1][2]': 1,\n",
       " 'C[1][0]': 1,\n",
       " 'C[2][0]': 1,\n",
       " 'r_eps[0][0]': 1,\n",
       " 'r_eps[1][0]': 1,\n",
       " 'r_eps[2][0]': 1,\n",
       " 'y[0][0]': 1,\n",
       " 'y[1][0]': 1,\n",
       " 'z_full[0][0]': 1,\n",
       " 'z_full[0][1]': 0,\n",
       " 'z_full[0][2]': 1,\n",
       " 'z_full[1][0]': 0,\n",
       " 'z_full[1][1]': 0,\n",
       " 'z_full[1][2]': 0}"
      ]
     },
     "execution_count": 86,
     "metadata": {},
     "output_type": "execute_result"
    }
   ],
   "source": [
    "best_sample.sample"
   ]
  },
  {
   "cell_type": "code",
   "execution_count": 87,
   "id": "ee05072b-cca6-4ea7-9115-b84ba3100079",
   "metadata": {},
   "outputs": [
    {
     "name": "stdout",
     "output_type": "stream",
     "text": [
      "{'H2_1': (False, 0.00011264725981163792), 'H4': (False, 0.140625), 'H3': (False, 0.0006250000000003197), 'H2_0': (False, 0.00032004287349174376)}\n"
     ]
    }
   ],
   "source": [
    "print(best_sample.constraints())"
   ]
  },
  {
   "cell_type": "code",
   "execution_count": 88,
   "id": "97fc4aae-09f7-41c6-bccb-f8d03eac4d85",
   "metadata": {},
   "outputs": [
    {
     "data": {
      "text/plain": [
       "Array([[Binary('z_full[0][0]'), Binary('z_full[0][1]'), Binary('z_full[0][2]')],\n",
       "       [Binary('z_full[1][0]'), Binary('z_full[1][1]'), Binary('z_full[1][2]')]])"
      ]
     },
     "execution_count": 88,
     "metadata": {},
     "output_type": "execute_result"
    }
   ],
   "source": [
    "z_full"
   ]
  },
  {
   "cell_type": "code",
   "execution_count": 73,
   "id": "c8c08839-1f62-44b0-85fd-acbad3c4eab4",
   "metadata": {},
   "outputs": [],
   "source": [
    "z_full_array = np.zeros(shape=z_full.shape)\n",
    "r_eps_norm_array = np.zeros(shape=r_eps_norm.shape)\n",
    "A_norm_array = np.zeros(shape=A_norm.shape)\n",
    "B_norm_array = np.zeros(shape=B_norm.shape)\n",
    "C_norm_array = np.zeros(shape=C_norm.shape)\n",
    "y_array = np.zeros(shape=y.shape) \n",
    "r_eps_array = np.zeros(shape=r_eps.shape)"
   ]
  },
  {
   "cell_type": "code",
   "execution_count": 72,
   "id": "2c9ba4c4-3597-4dbf-9a9b-590d8fecd571",
   "metadata": {},
   "outputs": [
    {
     "name": "stdout",
     "output_type": "stream",
     "text": [
      "[0, 0]\n",
      "[0, 1]\n",
      "[0, 2]\n",
      "[1, 0]\n",
      "[1, 1]\n",
      "[1, 2]\n",
      "B_full: [[1, 1, 1], [0, 0, 1]]\n",
      "C: [[0, 0, 0], [1, 0, 0], [0, 0, 0]]\n",
      "r_eps: [[1], [1], [1]]\n",
      "y: [[1], [1]]\n",
      "z_full: [[1, 0, 1], [0, 0, 0]]\n"
     ]
    }
   ],
   "source": [
    "import re\n",
    "\n",
    "key = \"B_full[0][1]\"\n",
    "\n",
    "\n",
    "data =best_sample.sample \n",
    "\n",
    "\n",
    "# Iterate through the dictionary and populate arrays\n",
    "for key, value in data.items():\n",
    "    if key.startswith('B_full'):\n",
    "        # Use regular expression to extract indices\n",
    "        indices = [int(idx) for idx in re.findall(r'\\[(\\d+)\\]', key)]\n",
    "        print(indices)\n",
    "        B_norm_array[indices[0]][indices[1]] = value\n",
    "    elif key.startswith('C'):\n",
    "        indices = [int(idx) for idx in re.findall(r'\\[(\\d+)\\]', key)]\n",
    "        C_array[indices[0]][indices[1]] = value\n",
    "    elif key.startswith('r_eps'):\n",
    "        indices = [int(idx) for idx in re.findall(r'\\[(\\d+)\\]', key)]\n",
    "        r_eps_array[indices[0]][indices[1]] = value\n",
    "    elif key.startswith('y'):\n",
    "        indices = [int(idx) for idx in re.findall(r'\\[(\\d+)\\]', key)]\n",
    "        y_array[indices[0]][indices[1]] = value\n",
    "    elif key.startswith('z_full'):\n",
    "        indices = [int(idx) for idx in re.findall(r'\\[(\\d+)\\]', key)]\n",
    "        z_full_array[indices[0]][indices[1]] = value\n",
    "\n",
    "# Print the populated arrays\n",
    "print(\"B_full:\", B_full)\n",
    "print(\"C:\", C)\n",
    "print(\"r_eps:\", r_eps)\n",
    "print(\"y:\", y)\n",
    "print(\"z_full:\", z_full)\n"
   ]
  },
  {
   "cell_type": "code",
   "execution_count": null,
   "id": "56662e9d-475e-4e5e-9245-b491335027c4",
   "metadata": {},
   "outputs": [],
   "source": []
  },
  {
   "cell_type": "code",
   "execution_count": 55,
   "id": "a2d4a016-f53d-4fab-aded-f0de0ffbf477",
   "metadata": {},
   "outputs": [
    {
     "ename": "IndexError",
     "evalue": "list assignment index out of range",
     "output_type": "error",
     "traceback": [
      "\u001b[1;31m---------------------------------------------------------------------------\u001b[0m",
      "\u001b[1;31mIndexError\u001b[0m                                Traceback (most recent call last)",
      "\u001b[1;32m~\\AppData\\Local\\Temp\\ipykernel_22084\\2096571514.py\u001b[0m in \u001b[0;36m<module>\u001b[1;34m\u001b[0m\n\u001b[0;32m     39\u001b[0m \u001b[1;33m\u001b[0m\u001b[0m\n\u001b[0;32m     40\u001b[0m     \u001b[1;31m# Populate the array\u001b[0m\u001b[1;33m\u001b[0m\u001b[1;33m\u001b[0m\u001b[1;33m\u001b[0m\u001b[0m\n\u001b[1;32m---> 41\u001b[1;33m     \u001b[0marrays\u001b[0m\u001b[1;33m[\u001b[0m\u001b[0marray_name\u001b[0m\u001b[1;33m]\u001b[0m\u001b[1;33m[\u001b[0m\u001b[0mindices\u001b[0m\u001b[1;33m[\u001b[0m\u001b[1;36m0\u001b[0m\u001b[1;33m]\u001b[0m\u001b[1;33m]\u001b[0m\u001b[1;33m[\u001b[0m\u001b[0mindices\u001b[0m\u001b[1;33m[\u001b[0m\u001b[1;36m1\u001b[0m\u001b[1;33m]\u001b[0m \u001b[1;32mif\u001b[0m \u001b[0mlen\u001b[0m\u001b[1;33m(\u001b[0m\u001b[0mindices\u001b[0m\u001b[1;33m)\u001b[0m \u001b[1;33m>\u001b[0m \u001b[1;36m1\u001b[0m \u001b[1;32melse\u001b[0m \u001b[1;36m0\u001b[0m\u001b[1;33m]\u001b[0m \u001b[1;33m=\u001b[0m \u001b[0mvalue\u001b[0m\u001b[1;33m\u001b[0m\u001b[1;33m\u001b[0m\u001b[0m\n\u001b[0m\u001b[0;32m     42\u001b[0m \u001b[1;33m\u001b[0m\u001b[0m\n\u001b[0;32m     43\u001b[0m \u001b[1;31m# Print the populated arrays\u001b[0m\u001b[1;33m\u001b[0m\u001b[1;33m\u001b[0m\u001b[1;33m\u001b[0m\u001b[0m\n",
      "\u001b[1;31mIndexError\u001b[0m: list assignment index out of range"
     ]
    }
   ],
   "source": [
    "import re\n",
    "\n",
    "data = {\n",
    "    'B_full[0][0]': 1,\n",
    "    'B_full[0][1]': 1,\n",
    "    'B_full[0][2]': 1,\n",
    "    'B_full[1][0]': 0,\n",
    "    'C[1][0]': 1,\n",
    "    'B_full[1][1]': 0,\n",
    "    'C[0][0]': 0,\n",
    "    'r_eps[2][0]': 1,\n",
    "    'B_full[1][2]': 1,\n",
    "    'C[2][0]': 0,\n",
    "    'r_eps[0][0]': 1,\n",
    "    'r_eps[1][0]': 1,\n",
    "    'y[0][0]': 1,\n",
    "    'y[1][0]': 1,\n",
    "    'z_full[0][0]': 1,\n",
    "    'z_full[0][1]': 0,\n",
    "    'z_full[0][2]': 1,\n",
    "    'z_full[1][0]': 0,\n",
    "    'z_full[1][1]': 0,\n",
    "    'z_full[1][2]': 0\n",
    "}\n",
    "\n",
    "# Create arrays dynamically based on the keys\n",
    "arrays = {}\n",
    "\n",
    "# Iterate through the dictionary and populate arrays\n",
    "for key, value in data.items():\n",
    "    indices = [int(idx) for idx in re.findall(r'\\[(\\d+)\\]', key)]\n",
    "    \n",
    "    # Extract the array name (e.g., B_full, C, r_eps, etc.)\n",
    "    array_name = key.split('[')[0]\n",
    "\n",
    "    # If the array is not in the dictionary, create an empty array\n",
    "    if array_name not in arrays:\n",
    "        arrays[array_name] = [[0] * (max(indices[1] + 1, 1) if len(indices) > 1 else 1) for _ in range(max(indices[0] + 1, 1))]\n",
    "\n",
    "    # Populate the array\n",
    "    arrays[array_name][indices[0]][indices[1] if len(indices) > 1 else 0] = value\n",
    "\n",
    "# Print the populated arrays\n",
    "for array_name, array in arrays.items():\n",
    "    print(f\"{array_name}: {array}\")\n"
   ]
  },
  {
   "cell_type": "code",
   "execution_count": 57,
   "id": "39d984f9-fd93-4852-bbb1-d09efd6bcf67",
   "metadata": {},
   "outputs": [
    {
     "name": "stdout",
     "output_type": "stream",
     "text": [
      "{'B_full': [0, 0], 'C': [1, 0], 'r_eps': [2, 0], 'y': [0, 0], 'z_full': [0, 0]}\n"
     ]
    }
   ],
   "source": [
    "def extract_dimensions(data):\n",
    "    dimensions = {}\n",
    "\n",
    "    for key in data.keys():\n",
    "        # Split the key using '[' and ']' to extract indices\n",
    "        indices = [int(idx) for idx in re.findall(r'\\[(\\d+)\\]', key)]\n",
    "    \n",
    "        # Extract dimension name (e.g., 'B_full', 'C', 'r_eps', 'y', 'z_full')\n",
    "        dimension_name = key.split('[')[0]\n",
    "\n",
    "        # Update the dimensions dictionary\n",
    "        if dimension_name not in dimensions:\n",
    "            dimensions[dimension_name] = indices\n",
    "\n",
    "    return dimensions\n",
    "\n",
    "data = {\n",
    "    'B_full[0][0]': 1,\n",
    "    'B_full[0][1]': 1,\n",
    "    'B_full[0][2]': 1,\n",
    "    'B_full[1][0]': 0,\n",
    "    'C[1][0]': 1,\n",
    "    'B_full[1][1]': 0,\n",
    "    'C[0][0]': 0,\n",
    "    'r_eps[2][0]': 1,\n",
    "    'B_full[1][2]': 1,\n",
    "    'C[2][0]': 0,\n",
    "    'r_eps[0][0]': 1,\n",
    "    'r_eps[1][0]': 1,\n",
    "    'y[0][0]': 1,\n",
    "    'y[1][0]': 1,\n",
    "    'z_full[0][0]': 1,\n",
    "    'z_full[0][1]': 0,\n",
    "    'z_full[0][2]': 1,\n",
    "    'z_full[1][0]': 0,\n",
    "    'z_full[1][1]': 0,\n",
    "    'z_full[1][2]': 0\n",
    "}\n",
    "\n",
    "dimensions = extract_dimensions(data)\n",
    "print(dimensions)\n"
   ]
  },
  {
   "cell_type": "code",
   "execution_count": 58,
   "id": "5cea29c9-5d1f-4512-a57c-cace6307c757",
   "metadata": {},
   "outputs": [
    {
     "name": "stdout",
     "output_type": "stream",
     "text": [
      "{'B_full': [1, 2], 'C': [2, 0], 'r_eps': [2, 0], 'y': [1, 0], 'z_full': [1, 2]}\n"
     ]
    }
   ],
   "source": [
    "import re\n",
    "\n",
    "def extract_dimensions(data):\n",
    "    dimensions = {}\n",
    "\n",
    "    for key in data.keys():\n",
    "        # Split the key using '[' and ']' to extract indices\n",
    "        indices = [int(idx) for idx in re.findall(r'\\[(\\d+)\\]', key)]\n",
    "\n",
    "        # Extract dimension name (e.g., 'B_full', 'C', 'r_eps', 'y', 'z_full')\n",
    "        dimension_name = key.split('[')[0]\n",
    "\n",
    "        # Update the dimensions dictionary with the largest indices\n",
    "        if dimension_name not in dimensions:\n",
    "            dimensions[dimension_name] = indices\n",
    "        else:\n",
    "            dimensions[dimension_name] = [max(curr, new) for curr, new in zip(dimensions[dimension_name], indices)]\n",
    "\n",
    "    return dimensions\n",
    "\n",
    "data = {\n",
    "    'B_full[0][0]': 1,\n",
    "    'B_full[0][1]': 1,\n",
    "    'B_full[0][2]': 1,\n",
    "    'B_full[1][0]': 0,\n",
    "    'C[1][0]': 1,\n",
    "    'B_full[1][1]': 0,\n",
    "    'C[0][0]': 0,\n",
    "    'r_eps[2][0]': 1,\n",
    "    'B_full[1][2]': 1,\n",
    "    'C[2][0]': 0,\n",
    "    'r_eps[0][0]': 1,\n",
    "    'r_eps[1][0]': 1,\n",
    "    'y[0][0]': 1,\n",
    "    'y[1][0]': 1,\n",
    "    'z_full[0][0]': 1,\n",
    "    'z_full[0][1]': 0,\n",
    "    'z_full[0][2]': 1,\n",
    "    'z_full[1][0]': 0,\n",
    "    'z_full[1][1]': 0,\n",
    "    'z_full[1][2]': 0\n",
    "}\n",
    "\n",
    "dimensions = extract_dimensions(data)\n",
    "print(dimensions)\n"
   ]
  },
  {
   "cell_type": "code",
   "execution_count": null,
   "id": "bb84c2e0-4397-4877-ae02-b68024321fc0",
   "metadata": {},
   "outputs": [],
   "source": []
  }
 ],
 "metadata": {
  "kernelspec": {
   "display_name": "Python 3 (ipykernel)",
   "language": "python",
   "name": "python3"
  },
  "language_info": {
   "codemirror_mode": {
    "name": "ipython",
    "version": 3
   },
   "file_extension": ".py",
   "mimetype": "text/x-python",
   "name": "python",
   "nbconvert_exporter": "python",
   "pygments_lexer": "ipython3",
   "version": "3.7.11"
  }
 },
 "nbformat": 4,
 "nbformat_minor": 5
}
