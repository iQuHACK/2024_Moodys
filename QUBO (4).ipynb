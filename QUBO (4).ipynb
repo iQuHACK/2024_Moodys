{
 "cells": [
  {
   "cell_type": "code",
   "execution_count": 191,
   "id": "68ffab4b-fa83-4b74-997a-47dfed539bb0",
   "metadata": {},
   "outputs": [],
   "source": [
    "import pyqubo\n",
    "from pyqubo import Array, Binary, Constraint, Placeholder\n",
    "import numpy as np\n",
    "import pandas as pd\n",
    "\n",
    "\n",
    "N, K = 2,6\n",
    "T = 4\n",
    "z = 0.05\n",
    "M = 100\n",
    "eps = 0.1\n",
    "\n",
    "\n",
    "df = pd.read_csv('returns_data.txt',delim_whitespace=True)\n",
    "\n",
    "Rraw = df.values.T\n",
    "\n",
    "# Select the first N,T assets and scenarios, you may choose a different strategy if you would like to do so.\n",
    "reward = Rraw[:N,:T]\n",
    "\n",
    "# Expected return of each asset\n",
    "Mu = np.mean(reward, axis = 1)\n",
    "\n",
    "Sigma = np.cov(reward)\n",
    "# Covariance matrix of asset returns\n",
    "\n",
    "R = reward.T"
   ]
  },
  {
   "cell_type": "code",
   "execution_count": 192,
   "id": "dcfa3c78-bcc7-4249-9397-89004f2c6ec3",
   "metadata": {},
   "outputs": [],
   "source": [
    "def binary2integer_norm(z):\n",
    "    try:\n",
    "        K = len(z)\n",
    "    except:\n",
    "        return 1/2 * z\n",
    "    return sum([2**((k+1)-1-K)*z[k] for k in range(0,K)])\n",
    "\n",
    "# Slack, nonbasic and other variables\n",
    "\n",
    "z_full = Array.create(\"z_full\", shape= (N,K), vartype=\"BINARY\")\n",
    "\n",
    "r_eps_norm = Array.create(\"r_eps\", shape=(K, 1), vartype=\"BINARY\")\n",
    "\n",
    "A_norm =  Array.create(\"A_norm\", shape=(K, 1), vartype=\"BINARY\")\n",
    "A_max = z\n",
    "A = A_max*binary2integer_norm(A_norm)\n",
    "\n",
    "B_norm =  Array.create(\"B_norm\", shape=(T, K), vartype=\"BINARY\")\n",
    "B_max = np.max(R, axis=1) + z + M \n",
    "\n",
    "C_norm =  Array.create(\"C_norm\", shape=(K, 1), vartype=\"BINARY\")\n",
    "C_max = eps*T\n",
    "C = C_max*binary2integer_norm(C_norm)\n",
    "\n",
    "y = Array.create(\"y\", shape=(T, 1), vartype=\"BINARY\")\n",
    "\n",
    "r_eps = z*(-1 + binary2integer_norm(r_eps_norm))\n",
    "\n",
    "def IV(n):\n",
    "    return (n*n - n)/2 + n"
   ]
  },
  {
   "cell_type": "code",
   "execution_count": 193,
   "id": "984954d0-0ceb-4365-83a6-4aa0a71e480c",
   "metadata": {},
   "outputs": [],
   "source": [
    "H_var = 0\n",
    "for i in range(N):\n",
    "    for j in range(N):\n",
    "        H_var += binary2integer_norm(z_full[i])*binary2integer_norm(z_full[j])*Sigma[i,j]"
   ]
  },
  {
   "cell_type": "code",
   "execution_count": 194,
   "id": "001fd2d2-5c9b-4d8e-a372-65360fa58f28",
   "metadata": {},
   "outputs": [],
   "source": [
    "H_exp = 0\n",
    "for i in range(N):\n",
    "        H_exp += Mu[i]*binary2integer_norm(z_full[i])"
   ]
  },
  {
   "cell_type": "code",
   "execution_count": 195,
   "id": "22f3f7b7-c47d-4a3c-9c6e-725f401e284d",
   "metadata": {},
   "outputs": [],
   "source": [
    "L1 = 100\n",
    "L2s = [100]*T\n",
    "L3 = 100\n",
    "L4 = 1000\n",
    "H1 = L1*Constraint((-r_eps[0] - z + A[0])**2, \"H1\")\n",
    "\n",
    "H2 = sum([L2s[t]*Constraint((r_eps[0] \n",
    "                       - sum([R[t,j]*binary2integer_norm(z_full[j]) for j in range(N)]) \n",
    "                       - M*(1-y[t][0])+1-1 \n",
    "                       + B_max[t]*binary2integer_norm(B_norm[t]))**2 , \"H2_{}\".format(t)) for t in range(T)])\n",
    "\n",
    "H3 = L3*Constraint(((1-eps)*T - sum(y)[0] + C[0] )**2, \"H3\")\n",
    "\n",
    "H4 = L4*Constraint((sum([binary2integer_norm(z_full[i]) for i in range(N)])-1)**2, \"H4\")"
   ]
  },
  {
   "cell_type": "code",
   "execution_count": 196,
   "id": "54358ac0-efaf-4c10-8b48-6951f12e15ff",
   "metadata": {},
   "outputs": [],
   "source": [
    "H = H_var - H_exp + (H1 +1-1) + (H2+1-1) + (H4+1-1) + (H3+1-1)"
   ]
  },
  {
   "cell_type": "code",
   "execution_count": 197,
   "id": "f8341ed5-c8d7-4b59-9055-7a5791f72990",
   "metadata": {},
   "outputs": [],
   "source": [
    "model = H.compile()"
   ]
  },
  {
   "cell_type": "code",
   "execution_count": 198,
   "id": "d8231778-cbf6-4f4b-b4e9-61f57f889bd1",
   "metadata": {},
   "outputs": [],
   "source": [
    "qubo, offset = model.to_qubo() #H_dict)"
   ]
  },
  {
   "cell_type": "code",
   "execution_count": 199,
   "id": "643d574c-c36b-484d-92c3-b9d90a6af70b",
   "metadata": {},
   "outputs": [],
   "source": [
    "from dwave.samplers import SimulatedAnnealingSampler"
   ]
  },
  {
   "cell_type": "code",
   "execution_count": 200,
   "id": "d5b48d50-f295-43ac-8e8c-67bf63432b56",
   "metadata": {},
   "outputs": [
    {
     "data": {
      "text/plain": [
       "895"
      ]
     },
     "execution_count": 200,
     "metadata": {},
     "output_type": "execute_result"
    }
   ],
   "source": [
    "len(qubo)"
   ]
  },
  {
   "cell_type": "code",
   "execution_count": 201,
   "id": "75ab433b-9d0d-4a31-aa62-e80b465bf4f3",
   "metadata": {},
   "outputs": [],
   "source": [
    "sampler = SimulatedAnnealingSampler()\n",
    "sampleset = sampler.sample_qubo(qubo, num_reads=10)\n",
    "samples = model.decode_sampleset(sampleset)\n",
    "best_sample = min(samples, key=lambda s: s.energy)"
   ]
  },
  {
   "cell_type": "code",
   "execution_count": 202,
   "id": "ee05072b-cca6-4ea7-9115-b84ba3100079",
   "metadata": {},
   "outputs": [
    {
     "name": "stdout",
     "output_type": "stream",
     "text": [
      "{'H2_2': (False, 0.00011592809759845424), 'H2_0': (False, 0.00010071519761272172), 'H1': (False, -6.2341624917916505e-19), 'H2_1': (False, 0.0001199591688170995), 'H2_3': (False, 0.0006929263919681905), 'H4': (True, 0.0), 'H3': (False, 3.906249999660605e-05)}\n"
     ]
    }
   ],
   "source": [
    "print(best_sample.constraints())"
   ]
  },
  {
   "cell_type": "code",
   "execution_count": 203,
   "id": "c8c08839-1f62-44b0-85fd-acbad3c4eab4",
   "metadata": {},
   "outputs": [],
   "source": [
    "z_full_array = np.zeros(shape=z_full.shape)\n",
    "r_eps_norm_array = np.zeros(shape=r_eps_norm.shape)\n",
    "A_norm_array = np.zeros(shape=A_norm.shape)\n",
    "B_norm_array = np.zeros(shape=B_norm.shape)\n",
    "C_norm_array = np.zeros(shape=C_norm.shape)\n",
    "y_array = np.zeros(shape=y.shape) \n",
    "r_eps_array = np.zeros(shape=r_eps_norm.shape)"
   ]
  },
  {
   "cell_type": "code",
   "execution_count": 204,
   "id": "2c9ba4c4-3597-4dbf-9a9b-590d8fecd571",
   "metadata": {},
   "outputs": [],
   "source": [
    "import re\n",
    "\n",
    "key = \"B_full[0][1]\"\n",
    "\n",
    "\n",
    "data =best_sample.sample \n",
    "\n",
    "\n",
    "# Iterate through the dictionary and populate arrays\n",
    "for key, value in data.items():\n",
    "    if key.startswith('B_full'):\n",
    "        # Use regular expression to extract indices\n",
    "        indices = [int(idx) for idx in re.findall(r'\\[(\\d+)\\]', key)]\n",
    "        print(indices)\n",
    "        B_norm_array[indices[0]][indices[1]] = value\n",
    "    elif key.startswith('C'):\n",
    "        indices = [int(idx) for idx in re.findall(r'\\[(\\d+)\\]', key)]\n",
    "        C_norm_array[indices[0]][indices[1]] = value\n",
    "    elif key.startswith('A'):\n",
    "        indices = [int(idx) for idx in re.findall(r'\\[(\\d+)\\]', key)]\n",
    "        A_norm_array[indices[0]][indices[1]] = value\n",
    "    elif key.startswith('r_eps'):\n",
    "        indices = [int(idx) for idx in re.findall(r'\\[(\\d+)\\]', key)]\n",
    "        r_eps_array[indices[0]][indices[1]] = value\n",
    "    elif key.startswith('y'):\n",
    "        indices = [int(idx) for idx in re.findall(r'\\[(\\d+)\\]', key)]\n",
    "        y_array[indices[0]][indices[1]] = value\n",
    "    elif key.startswith('z_full'):\n",
    "        indices = [int(idx) for idx in re.findall(r'\\[(\\d+)\\]', key)]\n",
    "        z_full_array[indices[0]][indices[1]] = value\n",
    "\n"
   ]
  },
  {
   "cell_type": "code",
   "execution_count": 205,
   "id": "56662e9d-475e-4e5e-9245-b491335027c4",
   "metadata": {},
   "outputs": [],
   "source": [
    "ws = [binary2integer_norm(z_full_array[i]) for i in range(N)]"
   ]
  },
  {
   "cell_type": "code",
   "execution_count": 206,
   "id": "c936b40f-274a-4e2f-99d7-93b7415c013e",
   "metadata": {},
   "outputs": [
    {
     "data": {
      "text/plain": [
       "[0.328125, 0.671875]"
      ]
     },
     "execution_count": 206,
     "metadata": {},
     "output_type": "execute_result"
    }
   ],
   "source": [
    "ws"
   ]
  },
  {
   "cell_type": "code",
   "execution_count": 207,
   "id": "4f0ae41c-00d4-47c1-9db1-c66d7d29edc3",
   "metadata": {},
   "outputs": [
    {
     "data": {
      "text/plain": [
       "1.0"
      ]
     },
     "execution_count": 207,
     "metadata": {},
     "output_type": "execute_result"
    }
   ],
   "source": [
    "sum(ws)"
   ]
  },
  {
   "cell_type": "code",
   "execution_count": 214,
   "id": "0ab1fdcd-54c5-4f9e-ad5d-42b8fc94e05c",
   "metadata": {},
   "outputs": [],
   "source": [
    "H_var = 0\n",
    "for i in range(N):\n",
    "    for j in range(N):\n",
    "        H_var += binary2integer_norm(z_full_array[i])*binary2integer_norm(z_full_array[j])*Sigma[i,j]"
   ]
  },
  {
   "cell_type": "code",
   "execution_count": 215,
   "id": "ba3b6bf3-24c8-493a-b474-03d853b9e77f",
   "metadata": {},
   "outputs": [],
   "source": [
    "H_exp = 0\n",
    "for i in range(N):\n",
    "        H_exp += Mu[i]*binary2integer_norm(z_full_array[i])"
   ]
  },
  {
   "cell_type": "code",
   "execution_count": 216,
   "id": "7841d398-0ef1-4a53-9673-cc4eb6484d08",
   "metadata": {},
   "outputs": [
    {
     "data": {
      "text/plain": [
       "0.00023188283348470079"
      ]
     },
     "execution_count": 216,
     "metadata": {},
     "output_type": "execute_result"
    }
   ],
   "source": [
    "H_var"
   ]
  },
  {
   "cell_type": "code",
   "execution_count": 217,
   "id": "a0a4839b-3656-45ae-a182-5875c41b89ff",
   "metadata": {},
   "outputs": [
    {
     "data": {
      "text/plain": [
       "0.008354946868359376"
      ]
     },
     "execution_count": 217,
     "metadata": {},
     "output_type": "execute_result"
    }
   ],
   "source": [
    "H_exp"
   ]
  },
  {
   "cell_type": "markdown",
   "id": "758f7c27-cbcc-4317-83b3-facf86cfb2a5",
   "metadata": {},
   "source": [
    "# Validating Simulated Annealing Results"
   ]
  },
  {
   "cell_type": "code",
   "execution_count": 305,
   "id": "e1b6be3a-b224-43c2-a434-a962c1639a71",
   "metadata": {},
   "outputs": [],
   "source": [
    "import pyqubo\n",
    "from pyqubo import Array, Binary, Constraint, Placeholder\n",
    "import numpy as np\n",
    "from dwave.samplers import SimulatedAnnealingSampler\n",
    "len(qubo)\n",
    "\n",
    "def binary2integer_norm(z):\n",
    "    try:\n",
    "        K = len(z)\n",
    "    except:\n",
    "        return 1/2 * z\n",
    "    return sum([2**((k+1)-1-K)*z[k] for k in range(0,K)])\n",
    "\n",
    "def IV(n):\n",
    "    return (n*n - n)/2 + n\n",
    "\n",
    "def f(L1, L3, L4, M, *L2s):\n",
    "    '''\n",
    "    L1 = 100\n",
    "    L2s = [100]*T\n",
    "    L3 = 100\n",
    "    L4 = 100\n",
    "    M = 100\n",
    "    '''\n",
    "    \n",
    "    z_full = Array.create(\"z_full\", shape= (N,K), vartype=\"BINARY\")\n",
    "\n",
    "    r_eps_norm = Array.create(\"r_eps\", shape=(K, 1), vartype=\"BINARY\")\n",
    "\n",
    "    A_norm =  Array.create(\"A_norm\", shape=(K, 1), vartype=\"BINARY\")\n",
    "    A_max = z\n",
    "    A = A_max*binary2integer_norm(A_norm)\n",
    "\n",
    "    B_norm =  Array.create(\"B_norm\", shape=(T, K), vartype=\"BINARY\")\n",
    "    B_max = np.max(R, axis=1) + z + M\n",
    "\n",
    "    C_norm =  Array.create(\"C_norm\", shape=(K, 1), vartype=\"BINARY\")\n",
    "    C_max = eps*T\n",
    "    C = C_max*binary2integer_norm(C_norm)\n",
    "\n",
    "    y = Array.create(\"y\", shape=(T, 1), vartype=\"BINARY\")\n",
    "\n",
    "    r_eps = z*(-1 + binary2integer_norm(r_eps_norm))\n",
    "\n",
    "    H_var = 0\n",
    "    for i in range(N):\n",
    "        for j in range(N):\n",
    "            H_var += binary2integer_norm(z_full[i])*binary2integer_norm(z_full[j])*Sigma[i,j]\n",
    "\n",
    "    H_exp = 0\n",
    "    for i in range(N):\n",
    "            H_exp += Mu[i]*binary2integer_norm(z_full[i])\n",
    "\n",
    "    H1 = L1*Constraint((-r_eps[0] - z + A[0])**2, \"H1\")\n",
    "\n",
    "    H2 = sum([L2s[t]*Constraint((r_eps[0] \n",
    "                           - sum([R[t,j]*binary2integer_norm(z_full[j]) for j in range(N)]) \n",
    "                           - M*(1-y[t][0])+1-1 \n",
    "                           + B_max[t]*binary2integer_norm(B_norm[t]))**2 , \"H2_{}\".format(t)) for t in range(T)])\n",
    "\n",
    "    H3 = L3*Constraint(((1-eps)*T - sum(y)[0] + C[0] )**2, \"H3\")\n",
    "\n",
    "    H4 = L4*Constraint((sum([binary2integer_norm(z_full[i]) for i in range(N)])-1)**2, \"H4\")\n",
    "\n",
    "    H = H_var - H_exp + (H1 +1-1) + (H2+1-1) + (H4+1-1) + (H3+1-1)\n",
    "\n",
    "    model = H.compile()\n",
    "\n",
    "    qubo, offset = model.to_qubo() #H_dict)\n",
    "\n",
    "    sampler = SimulatedAnnealingSampler()\n",
    "    sampleset = sampler.sample_qubo(qubo, num_reads=10)\n",
    "    samples = model.decode_sampleset(sampleset)\n",
    "    best_sample = min(samples, key=lambda s: s.energy)\n",
    "    \n",
    "    z_full_array = np.zeros(shape=z_full.shape)\n",
    "    r_eps_norm_array = np.zeros(shape=r_eps_norm.shape)\n",
    "    A_norm_array = np.zeros(shape=A_norm.shape)\n",
    "    B_norm_array = np.zeros(shape=B_norm.shape)\n",
    "    C_norm_array = np.zeros(shape=C_norm.shape)\n",
    "    y_array = np.zeros(shape=y.shape) \n",
    "    r_eps_array = np.zeros(shape=r_eps_norm.shape)\n",
    "\n",
    "    key = \"B_full[0][1]\"\n",
    "\n",
    "\n",
    "    data =best_sample.sample \n",
    "\n",
    "\n",
    "    # Iterate through the dictionary and populate arrays\n",
    "    for key, value in data.items():\n",
    "        if key.startswith('B_full'):\n",
    "            # Use regular expression to extract indices\n",
    "            indices = [int(idx) for idx in re.findall(r'\\[(\\d+)\\]', key)]\n",
    "            print(indices)\n",
    "            B_norm_array[indices[0]][indices[1]] = value\n",
    "        elif key.startswith('C'):\n",
    "            indices = [int(idx) for idx in re.findall(r'\\[(\\d+)\\]', key)]\n",
    "            C_norm_array[indices[0]][indices[1]] = value\n",
    "        elif key.startswith('A'):\n",
    "            indices = [int(idx) for idx in re.findall(r'\\[(\\d+)\\]', key)]\n",
    "            A_norm_array[indices[0]][indices[1]] = value\n",
    "        elif key.startswith('r_eps'):\n",
    "            indices = [int(idx) for idx in re.findall(r'\\[(\\d+)\\]', key)]\n",
    "            r_eps_array[indices[0]][indices[1]] = value\n",
    "        elif key.startswith('y'):\n",
    "            indices = [int(idx) for idx in re.findall(r'\\[(\\d+)\\]', key)]\n",
    "            y_array[indices[0]][indices[1]] = value\n",
    "        elif key.startswith('z_full'):\n",
    "            indices = [int(idx) for idx in re.findall(r'\\[(\\d+)\\]', key)]\n",
    "            z_full_array[indices[0]][indices[1]] = value\n",
    "            \n",
    "    \n",
    "\n",
    "\n",
    "    return (sum([i for _,i in list(best_sample.constraints().values())]), z_full_array)"
   ]
  },
  {
   "cell_type": "code",
   "execution_count": 326,
   "id": "78c14f4e-10a8-4e5b-b64d-6a9e28247f4a",
   "metadata": {},
   "outputs": [],
   "source": [
    "import matplotlib.pyplot as plt"
   ]
  },
  {
   "cell_type": "code",
   "execution_count": 339,
   "id": "e99ebf5d-9c33-46a6-8f2b-f959127e8dac",
   "metadata": {
    "tags": []
   },
   "outputs": [
    {
     "data": {
      "image/png": "[encoded data removed]",
      "text/plain": [
       "<Figure size 640x480 with 1 Axes>"
      ]
     },
     "metadata": {},
     "output_type": "display_data"
    }
   ],
   "source": [
    "for G in range(1,4):\n",
    "    H_vars = []\n",
    "    H_exps = []\n",
    "\n",
    "    for _ in range(50):\n",
    "        L1 = 100\n",
    "        L2s = [100]*T\n",
    "        L3 = 100\n",
    "        L4 = 100*G\n",
    "        M = 100\n",
    "\n",
    "        Loss, z_full_array = f(L1, L3, L4, M,  *L2s)\n",
    "\n",
    "        ws = [binary2integer_norm(z_full_array[i]) for i in range(N)]\n",
    "\n",
    "        H_var = 0\n",
    "        for i in range(N):\n",
    "            for j in range(N):\n",
    "                H_var += binary2integer_norm(z_full_array[i])*binary2integer_norm(z_full_array[j])*Sigma[i,j]\n",
    "\n",
    "        H_exp = 0\n",
    "        for i in range(N):\n",
    "                H_exp += Mu[i]*binary2integer_norm(z_full_array[i])\n",
    "\n",
    "        H_vars.append(H_var)\n",
    "        H_exps.append(H_exp)\n",
    "\n",
    "\n",
    "    # Assuming H_vars and H_exps are your data for variance and expected returns\n",
    "    # Replace them with your actual data\n",
    "\n",
    "    # Scatter plot\n",
    "    plt.scatter(H_vars, H_exps, label='Efficient Frontier: L4 = 10*{}'.format(G), marker='o', s=50)\n",
    "\n",
    "    # Title and labels\n",
    "    plt.title('Mean-Variance Model Frontier Curve')\n",
    "    plt.xlabel('Variance')\n",
    "    plt.ylabel('Expected Returns')\n",
    "\n",
    "    # Grid lines\n",
    "    plt.grid(True, linestyle='--', alpha=0.7)\n",
    "\n",
    "    # Customize the appearance\n",
    "    plt.axhline(0, color='black',linewidth=0.5)\n",
    "    plt.axvline(0, color='black',linewidth=0.5)\n",
    "    plt.xticks(fontsize=10)\n",
    "    plt.yticks(fontsize=10)\n",
    "\n",
    "    # Show the plot\n",
    "\n",
    "\n",
    "# Add a legend\n",
    "plt.legend()\n",
    "\n",
    "plt.show()\n",
    "import numpy as np"
   ]
  },
  {
   "cell_type": "markdown",
   "id": "755531d7-0735-4d51-9d79-10e4d5e48dc3",
   "metadata": {},
   "source": [
    "# Optimizing Lagrange Multipliers"
   ]
  },
  {
   "cell_type": "code",
   "execution_count": 345,
   "id": "92e1faef-40c1-434c-8442-3d90e9da4dae",
   "metadata": {},
   "outputs": [],
   "source": [
    "Loss, z_full_array = f(L1, L3, L4, M,  *L2s)"
   ]
  },
  {
   "cell_type": "code",
   "execution_count": 346,
   "id": "6cb2ce88-8281-470d-b3a1-773895a4ffc8",
   "metadata": {},
   "outputs": [
    {
     "data": {
      "text/plain": [
       "2.6031791873441206"
      ]
     },
     "execution_count": 346,
     "metadata": {},
     "output_type": "execute_result"
    }
   ],
   "source": [
    "Loss"
   ]
  },
  {
   "cell_type": "code",
   "execution_count": null,
   "id": "989de539-dc14-4a08-934f-23497263dd4d",
   "metadata": {
    "tags": []
   },
   "outputs": [],
   "source": [
    "def numerical_gradient(f, *params, epsilon=1e-7):\n",
    "    \"\"\"\n",
    "    Calculate the numerical gradient of the function f with respect to each parameter.\n",
    "    \"\"\"\n",
    "    gradients = []\n",
    "    for i in range(len(params)):\n",
    "        params_plus_epsilon = list(params)\n",
    "        params_plus_epsilon[i] += epsilon\n",
    "        params_minus_epsilon = list(params)\n",
    "        params_minus_epsilon[i] -= epsilon\n",
    "\n",
    "        gradient_i = (f(*params_plus_epsilon) - f(*params_minus_epsilon)) / (2 * epsilon)\n",
    "        gradients.append(gradient_i)\n",
    "\n",
    "    return np.array(gradients)\n",
    "\n",
    "def gradient_descent(f, initial_params, learning_rate=1e-7, num_iterations=10):\n",
    "    \"\"\"\n",
    "    Perform gradient descent optimization to minimize the function f.\n",
    "    \"\"\"\n",
    "    params = np.array(initial_params, dtype=float)  # Explicitly set data type to float\n",
    "\n",
    "    for iteration in range(num_iterations):\n",
    "        grad = numerical_gradient(f, *params)\n",
    "        params -= learning_rate * grad\n",
    "\n",
    "        if iteration % 5 == 0:\n",
    "            print(f'Iteration {iteration}, Value: {f(*params)}')\n",
    "\n",
    "    return params\n",
    "\n",
    "# Set initial parameter values\n",
    "initial_params = [100, 100, 100, 100] + [100] * T  # Replace T with the appropriate value\n",
    "\n",
    "# Perform gradient descent\n",
    "optimized_params = gradient_descent(f, initial_params)\n"
   ]
  },
  {
   "cell_type": "code",
   "execution_count": null,
   "id": "4ed57361-fe7d-4c9b-8e64-1f3ccaf0496b",
   "metadata": {},
   "outputs": [],
   "source": [
    "print(\"Optimized Value:\", f(*optimized_params))"
   ]
  },
  {
   "cell_type": "code",
   "execution_count": 149,
   "id": "ecd24c26-e4f9-4040-a347-50e22cb71809",
   "metadata": {
    "tags": []
   },
   "outputs": [
    {
     "name": "stdout",
     "output_type": "stream",
     "text": [
      "Optimized Value: 0.0012257928724465485\n"
     ]
    }
   ],
   "source": [
    "print(\"Optimized Value:\", f(*optimized_params))"
   ]
  },
  {
   "cell_type": "code",
   "execution_count": 150,
   "id": "ec0a73b0-edc4-4056-88a0-4967eefe09ef",
   "metadata": {},
   "outputs": [],
   "source": [
    "ws = [binary2integer_norm(z_full_array[i]) for i in range(N)]"
   ]
  },
  {
   "cell_type": "code",
   "execution_count": 151,
   "id": "2749ba72-7ed8-409d-b405-ee3e7019200b",
   "metadata": {},
   "outputs": [
    {
     "data": {
      "text/plain": [
       "[0.65625, 0.34375]"
      ]
     },
     "execution_count": 151,
     "metadata": {},
     "output_type": "execute_result"
    }
   ],
   "source": [
    "ws"
   ]
  },
  {
   "cell_type": "code",
   "execution_count": 152,
   "id": "1ecb0e81-2df6-4ed4-a7ae-2e76b69fcc12",
   "metadata": {},
   "outputs": [
    {
     "data": {
      "text/plain": [
       "1.0"
      ]
     },
     "execution_count": 152,
     "metadata": {},
     "output_type": "execute_result"
    }
   ],
   "source": [
    "sum(ws)"
   ]
  },
  {
   "cell_type": "code",
   "execution_count": 156,
   "id": "daa06ca7-1e93-453e-b88e-2ef25f03459c",
   "metadata": {},
   "outputs": [
    {
     "data": {
      "text/plain": [
       "array([[-0.002 ,  0.0449,  0.0108, ..., -0.0327,  0.0167,  0.0186],\n",
       "       [ 0.0148, -0.0068, -0.0225, ...,  0.0211,  0.0214,  0.0049],\n",
       "       [-0.0058,  0.0123,  0.0039, ...,  0.024 ,  0.047 ,  0.0134],\n",
       "       ...,\n",
       "       [ 0.0593,  0.0789,  0.0782, ...,  0.    ,  0.    ,  0.    ],\n",
       "       [ 0.0184, -0.0253, -0.0006, ...,  0.0148,  0.0251, -0.0143],\n",
       "       [-0.0006, -0.0123, -0.0045, ...,  0.0541, -0.0044, -0.0013]])"
      ]
     },
     "execution_count": 156,
     "metadata": {},
     "output_type": "execute_result"
    }
   ],
   "source": [
    "np.round(Rraw, 4)"
   ]
  }
 ],
 "metadata": {
  "kernelspec": {
   "display_name": "Python 3 (ipykernel)",
   "language": "python",
   "name": "python3"
  },
  "language_info": {
   "codemirror_mode": {
    "name": "ipython",
    "version": 3
   },
   "file_extension": ".py",
   "mimetype": "text/x-python",
   "name": "python",
   "nbconvert_exporter": "python",
   "pygments_lexer": "ipython3",
   "version": "3.7.11"
  }
 },
 "nbformat": 4,
 "nbformat_minor": 5
}
